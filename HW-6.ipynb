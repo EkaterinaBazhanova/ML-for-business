{
 "cells": [
  {
   "cell_type": "code",
   "execution_count": 375,
   "metadata": {},
   "outputs": [],
   "source": [
    "#загрузка необходимых библиотек и модулей\n",
    "import numpy as np\n",
    "import pandas as pd\n",
    "from sklearn.pipeline import Pipeline, make_pipeline\n",
    "from sklearn.base import BaseEstimator, TransformerMixin\n",
    "from sklearn.linear_model import LogisticRegression\n",
    "from sklearn.model_selection import train_test_split\n",
    "from sklearn.feature_extraction.text import TfidfVectorizer\n",
    "import itertools\n",
    "\n",
    "import matplotlib.pyplot as plt\n",
    "\n",
    "import statistics\n",
    "\n",
    "from sklearn.model_selection import train_test_split\n",
    "import catboost as catb\n",
    "\n",
    "from sklearn.metrics import f1_score, roc_auc_score, precision_score, precision_recall_curve\n",
    "from sklearn.model_selection import GridSearchCV\n",
    "import seaborn as sns\n",
    "\n",
    "%matplotlib inline"
   ]
  },
  {
   "cell_type": "markdown",
   "metadata": {},
   "source": [
    "# Домашнее задание №6"
   ]
  },
  {
   "cell_type": "markdown",
   "metadata": {},
   "source": [
    "1. взять любой набор данных для бинарной классификации (можно скачать один из модельных с https://archive.ics.uci.edu/ml/datasets.php)\n",
    "2. сделать feature engineering\n",
    "3. обучить любой классификатор (какой вам нравится)\n",
    "4. далее разделить ваш набор данных на два множества: P (positives) и U (unlabeled). Причем брать нужно не все положительные (класс 1) примеры, а только лишь часть\n",
    "5. применить random negative sampling для построения классификатора в новых условиях\n",
    "6. сравнить качество с решением из пункта 4 (построить отчет - таблицу метрик)\n",
    "7. поэкспериментировать с долей P на шаге 5 (как будет меняться качество модели при уменьшении/увеличении размера P)"
   ]
  },
  {
   "cell_type": "markdown",
   "metadata": {},
   "source": [
    "### Решение"
   ]
  },
  {
   "cell_type": "markdown",
   "metadata": {},
   "source": [
    "**1. Загрузка датасета**\n",
    "\n",
    "Источник датасета: https://archive.ics.uci.edu/ml/datasets/Caesarian+Section+Classification+Dataset"
   ]
  },
  {
   "cell_type": "markdown",
   "metadata": {},
   "source": [
    "*Описание датасета*\\\n",
    "Age -- возраст \\\n",
    "Delivery_Number -- номер поступления (1, 2, 3, 4)\\\n",
    "Delivery_Time -- время поступления (0 = своевремено, 1 = преждевремено, 2 = запоздалое)\\\n",
    "Blood_Pressure -- артериальное давление (0 = низкое, 1 = нормальное, 2 = высокое)\\\n",
    "Heart_Problem -- проблемы с сердцем (0 = нет, 1 = да)\\\n",
    "Caesarian -- проведение кесарева сечения (0 = нет, 1 = да)"
   ]
  },
  {
   "cell_type": "code",
   "execution_count": 376,
   "metadata": {},
   "outputs": [
    {
     "data": {
      "text/html": [
       "<div>\n",
       "<style scoped>\n",
       "    .dataframe tbody tr th:only-of-type {\n",
       "        vertical-align: middle;\n",
       "    }\n",
       "\n",
       "    .dataframe tbody tr th {\n",
       "        vertical-align: top;\n",
       "    }\n",
       "\n",
       "    .dataframe thead th {\n",
       "        text-align: right;\n",
       "    }\n",
       "</style>\n",
       "<table border=\"1\" class=\"dataframe\">\n",
       "  <thead>\n",
       "    <tr style=\"text-align: right;\">\n",
       "      <th></th>\n",
       "      <th>Age</th>\n",
       "      <th>Delivery_Number</th>\n",
       "      <th>Delivery_Time</th>\n",
       "      <th>Blood_Pressure</th>\n",
       "      <th>Heart_Problem</th>\n",
       "      <th>Caesarian</th>\n",
       "    </tr>\n",
       "  </thead>\n",
       "  <tbody>\n",
       "    <tr>\n",
       "      <th>0</th>\n",
       "      <td>22</td>\n",
       "      <td>1</td>\n",
       "      <td>0</td>\n",
       "      <td>2</td>\n",
       "      <td>0</td>\n",
       "      <td>0</td>\n",
       "    </tr>\n",
       "    <tr>\n",
       "      <th>1</th>\n",
       "      <td>26</td>\n",
       "      <td>2</td>\n",
       "      <td>0</td>\n",
       "      <td>1</td>\n",
       "      <td>0</td>\n",
       "      <td>1</td>\n",
       "    </tr>\n",
       "    <tr>\n",
       "      <th>2</th>\n",
       "      <td>26</td>\n",
       "      <td>2</td>\n",
       "      <td>1</td>\n",
       "      <td>1</td>\n",
       "      <td>0</td>\n",
       "      <td>0</td>\n",
       "    </tr>\n",
       "  </tbody>\n",
       "</table>\n",
       "</div>"
      ],
      "text/plain": [
       "   Age  Delivery_Number  Delivery_Time  Blood_Pressure  Heart_Problem  \\\n",
       "0   22                1              0               2              0   \n",
       "1   26                2              0               1              0   \n",
       "2   26                2              1               1              0   \n",
       "\n",
       "   Caesarian  \n",
       "0          0  \n",
       "1          1  \n",
       "2          0  "
      ]
     },
     "execution_count": 376,
     "metadata": {},
     "output_type": "execute_result"
    }
   ],
   "source": [
    "# заголовки для признаков\n",
    "_headers = ['Age', 'Delivery_Number', 'Delivery_Time', 'Blood_Pressure', 'Heart_Problem', 'Caesarian']\n",
    "# загрузка датасета\n",
    "df = pd.read_csv('caesarian.csv.arff', names=_headers, index_col=None, skiprows=15)\n",
    "df.head(3)"
   ]
  },
  {
   "cell_type": "code",
   "execution_count": 377,
   "metadata": {},
   "outputs": [
    {
     "data": {
      "text/plain": [
       "(80, 6)"
      ]
     },
     "execution_count": 377,
     "metadata": {},
     "output_type": "execute_result"
    }
   ],
   "source": [
    "#датасет содержит 80 наблюдений и 5 признаков\n",
    "df.shape"
   ]
  },
  {
   "cell_type": "markdown",
   "metadata": {},
   "source": [
    "**2. feature engineering**"
   ]
  },
  {
   "cell_type": "code",
   "execution_count": 378,
   "metadata": {},
   "outputs": [
    {
     "data": {
      "text/html": [
       "<div>\n",
       "<style scoped>\n",
       "    .dataframe tbody tr th:only-of-type {\n",
       "        vertical-align: middle;\n",
       "    }\n",
       "\n",
       "    .dataframe tbody tr th {\n",
       "        vertical-align: top;\n",
       "    }\n",
       "\n",
       "    .dataframe thead th {\n",
       "        text-align: right;\n",
       "    }\n",
       "</style>\n",
       "<table border=\"1\" class=\"dataframe\">\n",
       "  <thead>\n",
       "    <tr style=\"text-align: right;\">\n",
       "      <th></th>\n",
       "      <th>Age</th>\n",
       "      <th>Delivery_Number</th>\n",
       "      <th>Delivery_Time</th>\n",
       "      <th>Blood_Pressure</th>\n",
       "      <th>Heart_Problem</th>\n",
       "    </tr>\n",
       "  </thead>\n",
       "  <tbody>\n",
       "    <tr>\n",
       "      <th>0</th>\n",
       "      <td>22</td>\n",
       "      <td>1</td>\n",
       "      <td>0</td>\n",
       "      <td>2</td>\n",
       "      <td>0</td>\n",
       "    </tr>\n",
       "    <tr>\n",
       "      <th>1</th>\n",
       "      <td>26</td>\n",
       "      <td>2</td>\n",
       "      <td>0</td>\n",
       "      <td>1</td>\n",
       "      <td>0</td>\n",
       "    </tr>\n",
       "    <tr>\n",
       "      <th>2</th>\n",
       "      <td>26</td>\n",
       "      <td>2</td>\n",
       "      <td>1</td>\n",
       "      <td>1</td>\n",
       "      <td>0</td>\n",
       "    </tr>\n",
       "  </tbody>\n",
       "</table>\n",
       "</div>"
      ],
      "text/plain": [
       "   Age  Delivery_Number  Delivery_Time  Blood_Pressure  Heart_Problem\n",
       "0   22                1              0               2              0\n",
       "1   26                2              0               1              0\n",
       "2   26                2              1               1              0"
      ]
     },
     "execution_count": 378,
     "metadata": {},
     "output_type": "execute_result"
    }
   ],
   "source": [
    "# Датасет для feature engineering\n",
    "select = [x for x in df.columns if (x != \"Caesarian\")]\n",
    "X = df.loc[:, select]\n",
    "X.head(3)"
   ]
  },
  {
   "cell_type": "markdown",
   "metadata": {},
   "source": [
    "Feature encoding"
   ]
  },
  {
   "cell_type": "code",
   "execution_count": 379,
   "metadata": {},
   "outputs": [
    {
     "data": {
      "text/html": [
       "<div>\n",
       "<style scoped>\n",
       "    .dataframe tbody tr th:only-of-type {\n",
       "        vertical-align: middle;\n",
       "    }\n",
       "\n",
       "    .dataframe tbody tr th {\n",
       "        vertical-align: top;\n",
       "    }\n",
       "\n",
       "    .dataframe thead th {\n",
       "        text-align: right;\n",
       "    }\n",
       "</style>\n",
       "<table border=\"1\" class=\"dataframe\">\n",
       "  <thead>\n",
       "    <tr style=\"text-align: right;\">\n",
       "      <th></th>\n",
       "      <th>Age</th>\n",
       "      <th>Delivery_Number</th>\n",
       "      <th>Delivery_Time</th>\n",
       "      <th>Blood_Pressure</th>\n",
       "      <th>Heart_Problem</th>\n",
       "      <th>Age encode Delivery_Number</th>\n",
       "      <th>Age encode Delivery_Time</th>\n",
       "      <th>Age encode Blood_Pressure</th>\n",
       "      <th>Age encode Heart_Problem</th>\n",
       "    </tr>\n",
       "  </thead>\n",
       "  <tbody>\n",
       "    <tr>\n",
       "      <th>0</th>\n",
       "      <td>22</td>\n",
       "      <td>1</td>\n",
       "      <td>0</td>\n",
       "      <td>2</td>\n",
       "      <td>0</td>\n",
       "      <td>26.0</td>\n",
       "      <td>28</td>\n",
       "      <td>28.5</td>\n",
       "      <td>26</td>\n",
       "    </tr>\n",
       "    <tr>\n",
       "      <th>1</th>\n",
       "      <td>26</td>\n",
       "      <td>2</td>\n",
       "      <td>0</td>\n",
       "      <td>1</td>\n",
       "      <td>0</td>\n",
       "      <td>28.0</td>\n",
       "      <td>28</td>\n",
       "      <td>27.0</td>\n",
       "      <td>26</td>\n",
       "    </tr>\n",
       "    <tr>\n",
       "      <th>2</th>\n",
       "      <td>26</td>\n",
       "      <td>2</td>\n",
       "      <td>1</td>\n",
       "      <td>1</td>\n",
       "      <td>0</td>\n",
       "      <td>28.0</td>\n",
       "      <td>27</td>\n",
       "      <td>27.0</td>\n",
       "      <td>26</td>\n",
       "    </tr>\n",
       "  </tbody>\n",
       "</table>\n",
       "</div>"
      ],
      "text/plain": [
       "   Age  Delivery_Number  Delivery_Time  Blood_Pressure  Heart_Problem  \\\n",
       "0   22                1              0               2              0   \n",
       "1   26                2              0               1              0   \n",
       "2   26                2              1               1              0   \n",
       "\n",
       "   Age encode Delivery_Number  Age encode Delivery_Time  \\\n",
       "0                        26.0                        28   \n",
       "1                        28.0                        28   \n",
       "2                        28.0                        27   \n",
       "\n",
       "   Age encode Blood_Pressure  Age encode Heart_Problem  \n",
       "0                       28.5                        26  \n",
       "1                       27.0                        26  \n",
       "2                       27.0                        26  "
      ]
     },
     "execution_count": 379,
     "metadata": {},
     "output_type": "execute_result"
    }
   ],
   "source": [
    "#Вычислям медианное значение Age по каждому значению следующих признаков\n",
    "for feature in ['Delivery_Number','Delivery_Time', 'Blood_Pressure', 'Heart_Problem']:\n",
    "    d = X.groupby(feature, as_index=False).median()[[feature,'Age']].rename(columns={\n",
    "    'Age': f'Age encode {feature}'})\n",
    "    X = X.merge(d, on=feature, how='left')\n",
    "X.head(3)"
   ]
  },
  {
   "cell_type": "code",
   "execution_count": 380,
   "metadata": {},
   "outputs": [
    {
     "data": {
      "text/html": [
       "<div>\n",
       "<style scoped>\n",
       "    .dataframe tbody tr th:only-of-type {\n",
       "        vertical-align: middle;\n",
       "    }\n",
       "\n",
       "    .dataframe tbody tr th {\n",
       "        vertical-align: top;\n",
       "    }\n",
       "\n",
       "    .dataframe thead th {\n",
       "        text-align: right;\n",
       "    }\n",
       "</style>\n",
       "<table border=\"1\" class=\"dataframe\">\n",
       "  <thead>\n",
       "    <tr style=\"text-align: right;\">\n",
       "      <th></th>\n",
       "      <th>Age</th>\n",
       "      <th>Delivery_Number</th>\n",
       "      <th>Delivery_Time</th>\n",
       "      <th>Blood_Pressure</th>\n",
       "      <th>Heart_Problem</th>\n",
       "      <th>Age encode Delivery_Number</th>\n",
       "      <th>Age encode Delivery_Time</th>\n",
       "      <th>Age encode Blood_Pressure</th>\n",
       "      <th>Age encode Heart_Problem</th>\n",
       "      <th>Delivery_Number encode Age</th>\n",
       "      <th>Delivery_Time encode Age</th>\n",
       "      <th>Blood_Pressure encode Age</th>\n",
       "      <th>Heart_Problem encode Age</th>\n",
       "    </tr>\n",
       "  </thead>\n",
       "  <tbody>\n",
       "    <tr>\n",
       "      <th>0</th>\n",
       "      <td>22</td>\n",
       "      <td>1</td>\n",
       "      <td>0</td>\n",
       "      <td>2</td>\n",
       "      <td>0</td>\n",
       "      <td>26.0</td>\n",
       "      <td>28</td>\n",
       "      <td>28.5</td>\n",
       "      <td>26</td>\n",
       "      <td>1</td>\n",
       "      <td>0</td>\n",
       "      <td>2</td>\n",
       "      <td>0</td>\n",
       "    </tr>\n",
       "    <tr>\n",
       "      <th>1</th>\n",
       "      <td>26</td>\n",
       "      <td>2</td>\n",
       "      <td>0</td>\n",
       "      <td>1</td>\n",
       "      <td>0</td>\n",
       "      <td>28.0</td>\n",
       "      <td>28</td>\n",
       "      <td>27.0</td>\n",
       "      <td>26</td>\n",
       "      <td>2</td>\n",
       "      <td>1</td>\n",
       "      <td>1</td>\n",
       "      <td>0</td>\n",
       "    </tr>\n",
       "    <tr>\n",
       "      <th>2</th>\n",
       "      <td>26</td>\n",
       "      <td>2</td>\n",
       "      <td>1</td>\n",
       "      <td>1</td>\n",
       "      <td>0</td>\n",
       "      <td>28.0</td>\n",
       "      <td>27</td>\n",
       "      <td>27.0</td>\n",
       "      <td>26</td>\n",
       "      <td>2</td>\n",
       "      <td>1</td>\n",
       "      <td>1</td>\n",
       "      <td>0</td>\n",
       "    </tr>\n",
       "  </tbody>\n",
       "</table>\n",
       "</div>"
      ],
      "text/plain": [
       "   Age  Delivery_Number  Delivery_Time  Blood_Pressure  Heart_Problem  \\\n",
       "0   22                1              0               2              0   \n",
       "1   26                2              0               1              0   \n",
       "2   26                2              1               1              0   \n",
       "\n",
       "   Age encode Delivery_Number  Age encode Delivery_Time  \\\n",
       "0                        26.0                        28   \n",
       "1                        28.0                        28   \n",
       "2                        28.0                        27   \n",
       "\n",
       "   Age encode Blood_Pressure  Age encode Heart_Problem  \\\n",
       "0                       28.5                        26   \n",
       "1                       27.0                        26   \n",
       "2                       27.0                        26   \n",
       "\n",
       "   Delivery_Number encode Age  Delivery_Time encode Age  \\\n",
       "0                           1                         0   \n",
       "1                           2                         1   \n",
       "2                           2                         1   \n",
       "\n",
       "   Blood_Pressure encode Age  Heart_Problem encode Age  \n",
       "0                          2                         0  \n",
       "1                          1                         0  \n",
       "2                          1                         0  "
      ]
     },
     "execution_count": 380,
     "metadata": {},
     "output_type": "execute_result"
    }
   ],
   "source": [
    "#Вычислям значение моды по каждому из следующих признаков в зависимости от возраста\n",
    "for feature in ['Delivery_Number','Delivery_Time', 'Blood_Pressure', 'Heart_Problem']:\n",
    "    d = X.groupby('Age', as_index=False)[feature].apply(statistics.mode)[['Age',feature]].rename(columns={\n",
    "    feature: f'{feature} encode Age'})\n",
    "    X = X.merge(d, on='Age', how='left')\n",
    "X.head(3)"
   ]
  },
  {
   "cell_type": "markdown",
   "metadata": {},
   "source": [
    "Target encoding"
   ]
  },
  {
   "cell_type": "code",
   "execution_count": 381,
   "metadata": {},
   "outputs": [
    {
     "data": {
      "text/html": [
       "<div>\n",
       "<style scoped>\n",
       "    .dataframe tbody tr th:only-of-type {\n",
       "        vertical-align: middle;\n",
       "    }\n",
       "\n",
       "    .dataframe tbody tr th {\n",
       "        vertical-align: top;\n",
       "    }\n",
       "\n",
       "    .dataframe thead th {\n",
       "        text-align: right;\n",
       "    }\n",
       "</style>\n",
       "<table border=\"1\" class=\"dataframe\">\n",
       "  <thead>\n",
       "    <tr style=\"text-align: right;\">\n",
       "      <th></th>\n",
       "      <th>Age</th>\n",
       "      <th>Delivery_Number</th>\n",
       "      <th>Delivery_Time</th>\n",
       "      <th>Blood_Pressure</th>\n",
       "      <th>Heart_Problem</th>\n",
       "      <th>Age encode Delivery_Number</th>\n",
       "      <th>Age encode Delivery_Time</th>\n",
       "      <th>Age encode Blood_Pressure</th>\n",
       "      <th>Age encode Heart_Problem</th>\n",
       "      <th>Delivery_Number encode Age</th>\n",
       "      <th>Delivery_Time encode Age</th>\n",
       "      <th>Blood_Pressure encode Age</th>\n",
       "      <th>Heart_Problem encode Age</th>\n",
       "      <th>Caesarian_encode_Age</th>\n",
       "    </tr>\n",
       "  </thead>\n",
       "  <tbody>\n",
       "    <tr>\n",
       "      <th>0</th>\n",
       "      <td>22</td>\n",
       "      <td>1</td>\n",
       "      <td>0</td>\n",
       "      <td>2</td>\n",
       "      <td>0</td>\n",
       "      <td>26.0</td>\n",
       "      <td>28</td>\n",
       "      <td>28.5</td>\n",
       "      <td>26</td>\n",
       "      <td>1</td>\n",
       "      <td>0</td>\n",
       "      <td>2</td>\n",
       "      <td>0</td>\n",
       "      <td>0.5</td>\n",
       "    </tr>\n",
       "    <tr>\n",
       "      <th>1</th>\n",
       "      <td>26</td>\n",
       "      <td>2</td>\n",
       "      <td>0</td>\n",
       "      <td>1</td>\n",
       "      <td>0</td>\n",
       "      <td>28.0</td>\n",
       "      <td>28</td>\n",
       "      <td>27.0</td>\n",
       "      <td>26</td>\n",
       "      <td>2</td>\n",
       "      <td>1</td>\n",
       "      <td>1</td>\n",
       "      <td>0</td>\n",
       "      <td>0.0</td>\n",
       "    </tr>\n",
       "    <tr>\n",
       "      <th>2</th>\n",
       "      <td>26</td>\n",
       "      <td>2</td>\n",
       "      <td>1</td>\n",
       "      <td>1</td>\n",
       "      <td>0</td>\n",
       "      <td>28.0</td>\n",
       "      <td>27</td>\n",
       "      <td>27.0</td>\n",
       "      <td>26</td>\n",
       "      <td>2</td>\n",
       "      <td>1</td>\n",
       "      <td>1</td>\n",
       "      <td>0</td>\n",
       "      <td>0.0</td>\n",
       "    </tr>\n",
       "  </tbody>\n",
       "</table>\n",
       "</div>"
      ],
      "text/plain": [
       "   Age  Delivery_Number  Delivery_Time  Blood_Pressure  Heart_Problem  \\\n",
       "0   22                1              0               2              0   \n",
       "1   26                2              0               1              0   \n",
       "2   26                2              1               1              0   \n",
       "\n",
       "   Age encode Delivery_Number  Age encode Delivery_Time  \\\n",
       "0                        26.0                        28   \n",
       "1                        28.0                        28   \n",
       "2                        28.0                        27   \n",
       "\n",
       "   Age encode Blood_Pressure  Age encode Heart_Problem  \\\n",
       "0                       28.5                        26   \n",
       "1                       27.0                        26   \n",
       "2                       27.0                        26   \n",
       "\n",
       "   Delivery_Number encode Age  Delivery_Time encode Age  \\\n",
       "0                           1                         0   \n",
       "1                           2                         1   \n",
       "2                           2                         1   \n",
       "\n",
       "   Blood_Pressure encode Age  Heart_Problem encode Age  Caesarian_encode_Age  \n",
       "0                          2                         0                   0.5  \n",
       "1                          1                         0                   0.0  \n",
       "2                          1                         0                   0.0  "
      ]
     },
     "execution_count": 381,
     "metadata": {},
     "output_type": "execute_result"
    }
   ],
   "source": [
    "# target encording для количественного признака Age\n",
    "for feature in ['Age']:\n",
    "    t = pd.concat([X,df['Caesarian']], axis=1).\\\n",
    "         groupby(feature, as_index=False).median()[[feature, 'Caesarian']].\\\n",
    "         rename(columns={'Caesarian': f'Caesarian_encode_{feature}'})\n",
    "    t = pd.DataFrame(t)\n",
    "    X = X.merge(t, on=feature, how='left')\n",
    "X.head(3)"
   ]
  },
  {
   "cell_type": "code",
   "execution_count": 382,
   "metadata": {},
   "outputs": [
    {
     "data": {
      "text/html": [
       "<div>\n",
       "<style scoped>\n",
       "    .dataframe tbody tr th:only-of-type {\n",
       "        vertical-align: middle;\n",
       "    }\n",
       "\n",
       "    .dataframe tbody tr th {\n",
       "        vertical-align: top;\n",
       "    }\n",
       "\n",
       "    .dataframe thead th {\n",
       "        text-align: right;\n",
       "    }\n",
       "</style>\n",
       "<table border=\"1\" class=\"dataframe\">\n",
       "  <thead>\n",
       "    <tr style=\"text-align: right;\">\n",
       "      <th></th>\n",
       "      <th>Age</th>\n",
       "      <th>Delivery_Number</th>\n",
       "      <th>Delivery_Time</th>\n",
       "      <th>Blood_Pressure</th>\n",
       "      <th>Heart_Problem</th>\n",
       "      <th>Age encode Delivery_Number</th>\n",
       "      <th>Age encode Delivery_Time</th>\n",
       "      <th>Age encode Blood_Pressure</th>\n",
       "      <th>Age encode Heart_Problem</th>\n",
       "      <th>Delivery_Number encode Age</th>\n",
       "      <th>Delivery_Time encode Age</th>\n",
       "      <th>Blood_Pressure encode Age</th>\n",
       "      <th>Heart_Problem encode Age</th>\n",
       "      <th>Caesarian_encode_Age</th>\n",
       "      <th>Caesarian_encode_Delivery_Number</th>\n",
       "      <th>Caesarian_encode_Delivery_Time</th>\n",
       "      <th>Caesarian_encode_Blood_Pressure</th>\n",
       "      <th>Caesarian_encode_Heart_Problem</th>\n",
       "    </tr>\n",
       "  </thead>\n",
       "  <tbody>\n",
       "    <tr>\n",
       "      <th>0</th>\n",
       "      <td>22</td>\n",
       "      <td>1</td>\n",
       "      <td>0</td>\n",
       "      <td>2</td>\n",
       "      <td>0</td>\n",
       "      <td>26.0</td>\n",
       "      <td>28</td>\n",
       "      <td>28.5</td>\n",
       "      <td>26</td>\n",
       "      <td>1</td>\n",
       "      <td>0</td>\n",
       "      <td>2</td>\n",
       "      <td>0</td>\n",
       "      <td>0.5</td>\n",
       "      <td>1</td>\n",
       "      <td>1</td>\n",
       "      <td>1</td>\n",
       "      <td>0</td>\n",
       "    </tr>\n",
       "    <tr>\n",
       "      <th>1</th>\n",
       "      <td>26</td>\n",
       "      <td>2</td>\n",
       "      <td>0</td>\n",
       "      <td>1</td>\n",
       "      <td>0</td>\n",
       "      <td>28.0</td>\n",
       "      <td>28</td>\n",
       "      <td>27.0</td>\n",
       "      <td>26</td>\n",
       "      <td>2</td>\n",
       "      <td>1</td>\n",
       "      <td>1</td>\n",
       "      <td>0</td>\n",
       "      <td>0.0</td>\n",
       "      <td>1</td>\n",
       "      <td>1</td>\n",
       "      <td>0</td>\n",
       "      <td>0</td>\n",
       "    </tr>\n",
       "    <tr>\n",
       "      <th>2</th>\n",
       "      <td>26</td>\n",
       "      <td>2</td>\n",
       "      <td>1</td>\n",
       "      <td>1</td>\n",
       "      <td>0</td>\n",
       "      <td>28.0</td>\n",
       "      <td>27</td>\n",
       "      <td>27.0</td>\n",
       "      <td>26</td>\n",
       "      <td>2</td>\n",
       "      <td>1</td>\n",
       "      <td>1</td>\n",
       "      <td>0</td>\n",
       "      <td>0.0</td>\n",
       "      <td>1</td>\n",
       "      <td>0</td>\n",
       "      <td>0</td>\n",
       "      <td>0</td>\n",
       "    </tr>\n",
       "  </tbody>\n",
       "</table>\n",
       "</div>"
      ],
      "text/plain": [
       "   Age  Delivery_Number  Delivery_Time  Blood_Pressure  Heart_Problem  \\\n",
       "0   22                1              0               2              0   \n",
       "1   26                2              0               1              0   \n",
       "2   26                2              1               1              0   \n",
       "\n",
       "   Age encode Delivery_Number  Age encode Delivery_Time  \\\n",
       "0                        26.0                        28   \n",
       "1                        28.0                        28   \n",
       "2                        28.0                        27   \n",
       "\n",
       "   Age encode Blood_Pressure  Age encode Heart_Problem  \\\n",
       "0                       28.5                        26   \n",
       "1                       27.0                        26   \n",
       "2                       27.0                        26   \n",
       "\n",
       "   Delivery_Number encode Age  Delivery_Time encode Age  \\\n",
       "0                           1                         0   \n",
       "1                           2                         1   \n",
       "2                           2                         1   \n",
       "\n",
       "   Blood_Pressure encode Age  Heart_Problem encode Age  Caesarian_encode_Age  \\\n",
       "0                          2                         0                   0.5   \n",
       "1                          1                         0                   0.0   \n",
       "2                          1                         0                   0.0   \n",
       "\n",
       "   Caesarian_encode_Delivery_Number  Caesarian_encode_Delivery_Time  \\\n",
       "0                                 1                               1   \n",
       "1                                 1                               1   \n",
       "2                                 1                               0   \n",
       "\n",
       "   Caesarian_encode_Blood_Pressure  Caesarian_encode_Heart_Problem  \n",
       "0                                1                               0  \n",
       "1                                0                               0  \n",
       "2                                0                               0  "
      ]
     },
     "execution_count": 382,
     "metadata": {},
     "output_type": "execute_result"
    }
   ],
   "source": [
    "# target encording для категориальных признаков\n",
    "for feature in ['Delivery_Number', 'Delivery_Time', 'Blood_Pressure', 'Heart_Problem']:\n",
    "    t = pd.concat([X,df['Caesarian']], axis=1).\\\n",
    "         groupby(feature, as_index=False)['Caesarian'].apply(statistics.mode)[[feature, 'Caesarian']].\\\n",
    "         rename(columns={'Caesarian': f'Caesarian_encode_{feature}'})\n",
    "    t = pd.DataFrame(t)\n",
    "    X = X.merge(t, on=feature, how='left')\n",
    "X.head(3)"
   ]
  },
  {
   "cell_type": "code",
   "execution_count": 383,
   "metadata": {},
   "outputs": [
    {
     "data": {
      "text/html": [
       "<div>\n",
       "<style scoped>\n",
       "    .dataframe tbody tr th:only-of-type {\n",
       "        vertical-align: middle;\n",
       "    }\n",
       "\n",
       "    .dataframe tbody tr th {\n",
       "        vertical-align: top;\n",
       "    }\n",
       "\n",
       "    .dataframe thead th {\n",
       "        text-align: right;\n",
       "    }\n",
       "</style>\n",
       "<table border=\"1\" class=\"dataframe\">\n",
       "  <thead>\n",
       "    <tr style=\"text-align: right;\">\n",
       "      <th></th>\n",
       "      <th>Age</th>\n",
       "      <th>Delivery_Number</th>\n",
       "      <th>Delivery_Time</th>\n",
       "      <th>Blood_Pressure</th>\n",
       "      <th>Heart_Problem</th>\n",
       "      <th>Age encode Delivery_Number</th>\n",
       "      <th>Age encode Delivery_Time</th>\n",
       "      <th>Age encode Blood_Pressure</th>\n",
       "      <th>Age encode Heart_Problem</th>\n",
       "      <th>Delivery_Number encode Age</th>\n",
       "      <th>Delivery_Time encode Age</th>\n",
       "      <th>Blood_Pressure encode Age</th>\n",
       "      <th>Heart_Problem encode Age</th>\n",
       "      <th>Caesarian_encode_Age</th>\n",
       "      <th>Caesarian_encode_Delivery_Number</th>\n",
       "      <th>Caesarian_encode_Delivery_Time</th>\n",
       "      <th>Caesarian_encode_Blood_Pressure</th>\n",
       "      <th>Caesarian_encode_Heart_Problem</th>\n",
       "      <th>Caesarian</th>\n",
       "    </tr>\n",
       "  </thead>\n",
       "  <tbody>\n",
       "    <tr>\n",
       "      <th>0</th>\n",
       "      <td>22</td>\n",
       "      <td>1</td>\n",
       "      <td>0</td>\n",
       "      <td>2</td>\n",
       "      <td>0</td>\n",
       "      <td>26.0</td>\n",
       "      <td>28</td>\n",
       "      <td>28.5</td>\n",
       "      <td>26</td>\n",
       "      <td>1</td>\n",
       "      <td>0</td>\n",
       "      <td>2</td>\n",
       "      <td>0</td>\n",
       "      <td>0.5</td>\n",
       "      <td>1</td>\n",
       "      <td>1</td>\n",
       "      <td>1</td>\n",
       "      <td>0</td>\n",
       "      <td>0</td>\n",
       "    </tr>\n",
       "    <tr>\n",
       "      <th>1</th>\n",
       "      <td>26</td>\n",
       "      <td>2</td>\n",
       "      <td>0</td>\n",
       "      <td>1</td>\n",
       "      <td>0</td>\n",
       "      <td>28.0</td>\n",
       "      <td>28</td>\n",
       "      <td>27.0</td>\n",
       "      <td>26</td>\n",
       "      <td>2</td>\n",
       "      <td>1</td>\n",
       "      <td>1</td>\n",
       "      <td>0</td>\n",
       "      <td>0.0</td>\n",
       "      <td>1</td>\n",
       "      <td>1</td>\n",
       "      <td>0</td>\n",
       "      <td>0</td>\n",
       "      <td>1</td>\n",
       "    </tr>\n",
       "    <tr>\n",
       "      <th>2</th>\n",
       "      <td>26</td>\n",
       "      <td>2</td>\n",
       "      <td>1</td>\n",
       "      <td>1</td>\n",
       "      <td>0</td>\n",
       "      <td>28.0</td>\n",
       "      <td>27</td>\n",
       "      <td>27.0</td>\n",
       "      <td>26</td>\n",
       "      <td>2</td>\n",
       "      <td>1</td>\n",
       "      <td>1</td>\n",
       "      <td>0</td>\n",
       "      <td>0.0</td>\n",
       "      <td>1</td>\n",
       "      <td>0</td>\n",
       "      <td>0</td>\n",
       "      <td>0</td>\n",
       "      <td>0</td>\n",
       "    </tr>\n",
       "  </tbody>\n",
       "</table>\n",
       "</div>"
      ],
      "text/plain": [
       "   Age  Delivery_Number  Delivery_Time  Blood_Pressure  Heart_Problem  \\\n",
       "0   22                1              0               2              0   \n",
       "1   26                2              0               1              0   \n",
       "2   26                2              1               1              0   \n",
       "\n",
       "   Age encode Delivery_Number  Age encode Delivery_Time  \\\n",
       "0                        26.0                        28   \n",
       "1                        28.0                        28   \n",
       "2                        28.0                        27   \n",
       "\n",
       "   Age encode Blood_Pressure  Age encode Heart_Problem  \\\n",
       "0                       28.5                        26   \n",
       "1                       27.0                        26   \n",
       "2                       27.0                        26   \n",
       "\n",
       "   Delivery_Number encode Age  Delivery_Time encode Age  \\\n",
       "0                           1                         0   \n",
       "1                           2                         1   \n",
       "2                           2                         1   \n",
       "\n",
       "   Blood_Pressure encode Age  Heart_Problem encode Age  Caesarian_encode_Age  \\\n",
       "0                          2                         0                   0.5   \n",
       "1                          1                         0                   0.0   \n",
       "2                          1                         0                   0.0   \n",
       "\n",
       "   Caesarian_encode_Delivery_Number  Caesarian_encode_Delivery_Time  \\\n",
       "0                                 1                               1   \n",
       "1                                 1                               1   \n",
       "2                                 1                               0   \n",
       "\n",
       "   Caesarian_encode_Blood_Pressure  Caesarian_encode_Heart_Problem  Caesarian  \n",
       "0                                1                               0          0  \n",
       "1                                0                               0          1  \n",
       "2                                0                               0          0  "
      ]
     },
     "execution_count": 383,
     "metadata": {},
     "output_type": "execute_result"
    }
   ],
   "source": [
    "#Собираем датасет после преобразования признаков\n",
    "df = pd.concat([X, df['Caesarian']], axis=1)\n",
    "df.head(3)"
   ]
  },
  {
   "cell_type": "code",
   "execution_count": 384,
   "metadata": {},
   "outputs": [
    {
     "data": {
      "text/plain": [
       "(80, 19)"
      ]
     },
     "execution_count": 384,
     "metadata": {},
     "output_type": "execute_result"
    }
   ],
   "source": [
    "#преобразованный датасет содержит 80 наблюдений и 18 признаков\n",
    "df.shape"
   ]
  },
  {
   "cell_type": "markdown",
   "metadata": {},
   "source": [
    "**3. Обучение бинарного классификатора CatBoostClassifier**"
   ]
  },
  {
   "cell_type": "code",
   "execution_count": 385,
   "metadata": {},
   "outputs": [
    {
     "name": "stdout",
     "output_type": "stream",
     "text": [
      "(60, 18) (20, 18)\n"
     ]
    }
   ],
   "source": [
    "#разделим данные на train/test\n",
    "X = df.drop(['Caesarian'], axis=1)\n",
    "y = df['Caesarian']\n",
    "X_train, X_test, y_train, y_test = train_test_split(X, y, random_state=0)\n",
    "print(X_train.shape, X_test.shape)"
   ]
  },
  {
   "cell_type": "code",
   "execution_count": 386,
   "metadata": {},
   "outputs": [
    {
     "data": {
      "text/plain": [
       "0.6666666666666666"
      ]
     },
     "execution_count": 386,
     "metadata": {},
     "output_type": "execute_result"
    }
   ],
   "source": [
    "#считаем дисбаланс\n",
    "disbalance = y_train.value_counts()[0] / y_train.value_counts()[1]\n",
    "disbalance"
   ]
  },
  {
   "cell_type": "code",
   "execution_count": 387,
   "metadata": {},
   "outputs": [
    {
     "data": {
      "text/plain": [
       "array([0.3824724 , 0.25157842, 0.58807097, 0.819764  , 0.38295048,\n",
       "       0.85858996, 0.33067871, 0.58807097, 0.11336711, 0.81612356])"
      ]
     },
     "execution_count": 387,
     "metadata": {},
     "output_type": "execute_result"
    }
   ],
   "source": [
    "model_catb = catb.CatBoostClassifier(silent=True, \n",
    "                                     random_state=21,\n",
    "                                     class_weights=[1, disbalance],\n",
    "                                     eval_metric='F1',\n",
    "                                     early_stopping_rounds=20,\n",
    "                                     cat_features=['Delivery_Number', 'Delivery_Time', 'Blood_Pressure', 'Heart_Problem'],\n",
    "                                     #iterations=40,\n",
    "                                     #max_depth=4\n",
    "                                     )\n",
    "#обучаем модель\n",
    "model_catb.fit(X_train, y_train)\n",
    "\n",
    "#делаем прогнозы для тестовой выборки\n",
    "preds = model_catb.predict_proba(X_test)[:, 1]\n",
    "preds[:10]"
   ]
  },
  {
   "cell_type": "markdown",
   "metadata": {},
   "source": [
    "Значения метрик"
   ]
  },
  {
   "cell_type": "code",
   "execution_count": 388,
   "metadata": {},
   "outputs": [
    {
     "name": "stdout",
     "output_type": "stream",
     "text": [
      "Best Threshold=0.330679, F-Score=0.720, Precision=0.600, Recall=0.900\n"
     ]
    }
   ],
   "source": [
    "precision, recall, thresholds = precision_recall_curve(y_test, preds)\n",
    "\n",
    "fscore = (2 * precision * recall) / (precision + recall)\n",
    "# locate the index of the largest f score\n",
    "ix = np.argmax(fscore)\n",
    "print('Best Threshold=%f, F-Score=%.3f, Precision=%.3f, Recall=%.3f' % (thresholds[ix], \n",
    "                                                                        fscore[ix],\n",
    "                                                                        precision[ix],\n",
    "                                                                        recall[ix]))\n",
    "boost_metrics = [fscore[ix], precision[ix], recall[ix]]"
   ]
  },
  {
   "cell_type": "markdown",
   "metadata": {},
   "source": [
    "Поиск лучших параметров модели"
   ]
  },
  {
   "cell_type": "code",
   "execution_count": 389,
   "metadata": {},
   "outputs": [
    {
     "data": {
      "text/plain": [
       "{'iterations': 40, 'max_depth': 4}"
      ]
     },
     "execution_count": 389,
     "metadata": {},
     "output_type": "execute_result"
    }
   ],
   "source": [
    "frozen_params = {\n",
    "     'class_weights':[1, disbalance], \n",
    "     'silent':True,\n",
    "     'random_state':21,\n",
    "     'eval_metric':'F1',\n",
    "     'early_stopping_rounds':20,\n",
    "     'cat_features' : ['Delivery_Number', 'Delivery_Time', 'Blood_Pressure', 'Heart_Problem']\n",
    "    }\n",
    "\n",
    "\n",
    "model_catb = catb.CatBoostClassifier(**frozen_params)\n",
    "\n",
    "params = {'iterations':[20, 40, 50, 100, 200, 500, 700, 1000],\n",
    "          'max_depth':[2, 3, 4, 5, 7,10]}\n",
    "#перебор\n",
    "grid = GridSearchCV(model_catb,\n",
    "                    param_grid=params,\n",
    "                    cv=6,\n",
    "                    refit=False)\n",
    "\n",
    "search = grid.fit(X_train, y_train)\n",
    "search.best_params_"
   ]
  },
  {
   "cell_type": "code",
   "execution_count": 390,
   "metadata": {},
   "outputs": [
    {
     "data": {
      "text/plain": [
       "array([0.4341224 , 0.34716473, 0.49842223, 0.67237347, 0.38721908,\n",
       "       0.71039914, 0.36301484, 0.49842223, 0.27562354, 0.66300572])"
      ]
     },
     "execution_count": 390,
     "metadata": {},
     "output_type": "execute_result"
    }
   ],
   "source": [
    "model_catb = catb.CatBoostClassifier(**frozen_params,\n",
    "                                      iterations=40,\n",
    "                                        max_depth=4\n",
    "                                       )\n",
    "\n",
    "model_catb.fit(X_train, y_train)\n",
    "\n",
    "#делаем прогнозы для тестовой выборки\n",
    "preds = model_catb.predict_proba(X_test)[:, 1]\n",
    "preds[:10]"
   ]
  },
  {
   "cell_type": "code",
   "execution_count": 391,
   "metadata": {},
   "outputs": [
    {
     "name": "stdout",
     "output_type": "stream",
     "text": [
      "Best Threshold=0.363015, F-Score=0.720, Precision=0.600, Recall=0.900\n"
     ]
    }
   ],
   "source": [
    "precision, recall, thresholds = precision_recall_curve(y_test, preds)\n",
    "\n",
    "fscore = (2 * precision * recall) / (precision + recall)\n",
    "# locate the index of the largest f score\n",
    "ix = np.argmax(fscore)\n",
    "print('Best Threshold=%f, F-Score=%.3f, Precision=%.3f, Recall=%.3f' % (thresholds[ix], \n",
    "                                                                        fscore[ix],\n",
    "                                                                        precision[ix],\n",
    "                                                                        recall[ix]))\n",
    "boost_metrics = [fscore[ix], precision[ix], recall[ix]]"
   ]
  },
  {
   "cell_type": "code",
   "execution_count": 392,
   "metadata": {},
   "outputs": [
    {
     "name": "stderr",
     "output_type": "stream",
     "text": [
      "C:\\ProgramData\\Anaconda3\\lib\\site-packages\\seaborn\\_decorators.py:36: FutureWarning: Pass the following variables as keyword args: x, y. From version 0.12, the only valid positional argument will be `data`, and passing other arguments without an explicit keyword will result in an error or misinterpretation.\n",
      "  warnings.warn(\n"
     ]
    },
    {
     "data": {
      "image/png": "[encoded data removed]",
      "text/plain": [
       "<Figure size 720x388.8 with 1 Axes>"
      ]
     },
     "metadata": {
      "needs_background": "light"
     },
     "output_type": "display_data"
    }
   ],
   "source": [
    "#важность признаков\n",
    "def show_feature_importances(feature_names, feature_importances, get_top=None):\n",
    "    feature_importances = pd.DataFrame({'feature': feature_names, 'importance': feature_importances})\n",
    "    feature_importances = feature_importances.sort_values('importance', ascending=False)\n",
    "       \n",
    "    plt.figure(figsize = (10, len(feature_importances) * 0.3))\n",
    "    \n",
    "    sns.barplot(feature_importances['importance'], feature_importances['feature'])\n",
    "    \n",
    "    plt.xlabel('Importance')\n",
    "    plt.title('Importance of features')\n",
    "    plt.show()\n",
    "    \n",
    "    if get_top is not None:\n",
    "        return feature_importances['feature'][:get_top].tolist()\n",
    "\n",
    "important_features_top = show_feature_importances(X_train.columns, model_catb.feature_importances_, get_top=10)"
   ]
  },
  {
   "cell_type": "markdown",
   "metadata": {},
   "source": [
    "**4. Разделение данных на два множества: P (positives) и U (unlabeled)**"
   ]
  },
  {
   "cell_type": "code",
   "execution_count": 394,
   "metadata": {},
   "outputs": [
    {
     "data": {
      "text/html": [
       "<div>\n",
       "<style scoped>\n",
       "    .dataframe tbody tr th:only-of-type {\n",
       "        vertical-align: middle;\n",
       "    }\n",
       "\n",
       "    .dataframe tbody tr th {\n",
       "        vertical-align: top;\n",
       "    }\n",
       "\n",
       "    .dataframe thead th {\n",
       "        text-align: right;\n",
       "    }\n",
       "</style>\n",
       "<table border=\"1\" class=\"dataframe\">\n",
       "  <thead>\n",
       "    <tr style=\"text-align: right;\">\n",
       "      <th></th>\n",
       "      <th>Age</th>\n",
       "      <th>Delivery_Number</th>\n",
       "      <th>Delivery_Time</th>\n",
       "      <th>Blood_Pressure</th>\n",
       "      <th>Heart_Problem</th>\n",
       "      <th>Age encode Delivery_Number</th>\n",
       "      <th>Age encode Delivery_Time</th>\n",
       "      <th>Age encode Blood_Pressure</th>\n",
       "      <th>Age encode Heart_Problem</th>\n",
       "      <th>Delivery_Number encode Age</th>\n",
       "      <th>Delivery_Time encode Age</th>\n",
       "      <th>Blood_Pressure encode Age</th>\n",
       "      <th>Heart_Problem encode Age</th>\n",
       "      <th>Caesarian_encode_Age</th>\n",
       "      <th>Caesarian_encode_Delivery_Number</th>\n",
       "      <th>Caesarian_encode_Delivery_Time</th>\n",
       "      <th>Caesarian_encode_Blood_Pressure</th>\n",
       "      <th>Caesarian_encode_Heart_Problem</th>\n",
       "      <th>Caesarian</th>\n",
       "    </tr>\n",
       "  </thead>\n",
       "  <tbody>\n",
       "    <tr>\n",
       "      <th>0</th>\n",
       "      <td>32</td>\n",
       "      <td>3</td>\n",
       "      <td>0</td>\n",
       "      <td>1</td>\n",
       "      <td>0</td>\n",
       "      <td>32.0</td>\n",
       "      <td>28</td>\n",
       "      <td>27.0</td>\n",
       "      <td>26</td>\n",
       "      <td>2</td>\n",
       "      <td>0</td>\n",
       "      <td>1</td>\n",
       "      <td>1</td>\n",
       "      <td>1.0</td>\n",
       "      <td>1</td>\n",
       "      <td>1</td>\n",
       "      <td>0</td>\n",
       "      <td>0</td>\n",
       "      <td>1</td>\n",
       "    </tr>\n",
       "    <tr>\n",
       "      <th>1</th>\n",
       "      <td>26</td>\n",
       "      <td>2</td>\n",
       "      <td>2</td>\n",
       "      <td>1</td>\n",
       "      <td>0</td>\n",
       "      <td>28.0</td>\n",
       "      <td>26</td>\n",
       "      <td>27.0</td>\n",
       "      <td>26</td>\n",
       "      <td>2</td>\n",
       "      <td>1</td>\n",
       "      <td>1</td>\n",
       "      <td>0</td>\n",
       "      <td>0.0</td>\n",
       "      <td>1</td>\n",
       "      <td>0</td>\n",
       "      <td>0</td>\n",
       "      <td>0</td>\n",
       "      <td>1</td>\n",
       "    </tr>\n",
       "    <tr>\n",
       "      <th>2</th>\n",
       "      <td>29</td>\n",
       "      <td>2</td>\n",
       "      <td>0</td>\n",
       "      <td>1</td>\n",
       "      <td>1</td>\n",
       "      <td>28.0</td>\n",
       "      <td>28</td>\n",
       "      <td>27.0</td>\n",
       "      <td>29</td>\n",
       "      <td>2</td>\n",
       "      <td>0</td>\n",
       "      <td>0</td>\n",
       "      <td>1</td>\n",
       "      <td>1.0</td>\n",
       "      <td>1</td>\n",
       "      <td>1</td>\n",
       "      <td>0</td>\n",
       "      <td>1</td>\n",
       "      <td>1</td>\n",
       "    </tr>\n",
       "  </tbody>\n",
       "</table>\n",
       "</div>"
      ],
      "text/plain": [
       "   Age  Delivery_Number  Delivery_Time  Blood_Pressure  Heart_Problem  \\\n",
       "0   32                3              0               1              0   \n",
       "1   26                2              2               1              0   \n",
       "2   29                2              0               1              1   \n",
       "\n",
       "   Age encode Delivery_Number  Age encode Delivery_Time  \\\n",
       "0                        32.0                        28   \n",
       "1                        28.0                        26   \n",
       "2                        28.0                        28   \n",
       "\n",
       "   Age encode Blood_Pressure  Age encode Heart_Problem  \\\n",
       "0                       27.0                        26   \n",
       "1                       27.0                        26   \n",
       "2                       27.0                        29   \n",
       "\n",
       "   Delivery_Number encode Age  Delivery_Time encode Age  \\\n",
       "0                           2                         0   \n",
       "1                           2                         1   \n",
       "2                           2                         0   \n",
       "\n",
       "   Blood_Pressure encode Age  Heart_Problem encode Age  Caesarian_encode_Age  \\\n",
       "0                          1                         1                   1.0   \n",
       "1                          1                         0                   0.0   \n",
       "2                          0                         1                   1.0   \n",
       "\n",
       "   Caesarian_encode_Delivery_Number  Caesarian_encode_Delivery_Time  \\\n",
       "0                                 1                               1   \n",
       "1                                 1                               0   \n",
       "2                                 1                               1   \n",
       "\n",
       "   Caesarian_encode_Blood_Pressure  Caesarian_encode_Heart_Problem  Caesarian  \n",
       "0                                0                               0          1  \n",
       "1                                0                               0          1  \n",
       "2                                0                               1          1  "
      ]
     },
     "execution_count": 394,
     "metadata": {},
     "output_type": "execute_result"
    }
   ],
   "source": [
    "df_P = df.loc[df['Caesarian'] == 1] #positives\n",
    "df_U = df.loc[df['Caesarian'] == 0] #unlabeled\n",
    "\n",
    "data_P = df_P.sample(frac=0.8) #берем не все positivies, а только часть\n",
    "data_U = df_U\n",
    "data = pd.concat([data_P, data_U], ignore_index=True)\n",
    "data.head(3)"
   ]
  },
  {
   "cell_type": "markdown",
   "metadata": {},
   "source": [
    "**5. Random negative sampling (для построения классификатора в новых условиях)**"
   ]
  },
  {
   "cell_type": "code",
   "execution_count": 395,
   "metadata": {},
   "outputs": [
    {
     "name": "stdout",
     "output_type": "stream",
     "text": [
      "(53, 18) (18, 18)\n"
     ]
    }
   ],
   "source": [
    "#разделим данные на train/test\n",
    "X_train, X_test, y_train, y_test = train_test_split(data.drop(['Caesarian'], axis=1), data['Caesarian'], random_state=0)\n",
    "print(X_train.shape, X_test.shape)"
   ]
  },
  {
   "cell_type": "code",
   "execution_count": 396,
   "metadata": {},
   "outputs": [
    {
     "name": "stdout",
     "output_type": "stream",
     "text": [
      "Best Thresho.ld=0.391265, F-Score=0.783, Precision=0.643, Recall=1.000\n"
     ]
    }
   ],
   "source": [
    "#обучаем модель\n",
    "model_catb.fit(X_train, y_train)\n",
    "\n",
    "#прогнозы для тестовой выборки\n",
    "preds = model_catb.predict_proba(X_test)[:, 1]\n",
    "\n",
    "#считаем метрики\n",
    "precision, recall, thresholds = precision_recall_curve(y_test, preds)\n",
    "fscore = (2 * precision * recall) / (precision + recall)\n",
    "# locate the index of the largest f score\n",
    "ix = np.argmax(fscore)\n",
    "print('Best Thresho.ld=%f, F-Score=%.3f, Precision=%.3f, Recall=%.3f' % (thresholds[ix], \n",
    "                                                                        fscore[ix],\n",
    "                                                                        precision[ix],\n",
    "                                                                        recall[ix]))\n",
    "boost_metrics_RNS =  [fscore[ix], precision[ix], recall[ix]]"
   ]
  },
  {
   "cell_type": "markdown",
   "metadata": {},
   "source": [
    "**6. Сравнение качеств модели из пунктов 3 и 5**"
   ]
  },
  {
   "cell_type": "markdown",
   "metadata": {},
   "source": [
    "Сводная таблица результатов моделей"
   ]
  },
  {
   "cell_type": "code",
   "execution_count": 397,
   "metadata": {},
   "outputs": [
    {
     "data": {
      "text/html": [
       "<div>\n",
       "<style scoped>\n",
       "    .dataframe tbody tr th:only-of-type {\n",
       "        vertical-align: middle;\n",
       "    }\n",
       "\n",
       "    .dataframe tbody tr th {\n",
       "        vertical-align: top;\n",
       "    }\n",
       "\n",
       "    .dataframe thead th {\n",
       "        text-align: right;\n",
       "    }\n",
       "</style>\n",
       "<table border=\"1\" class=\"dataframe\">\n",
       "  <thead>\n",
       "    <tr style=\"text-align: right;\">\n",
       "      <th></th>\n",
       "      <th>model</th>\n",
       "      <th>f-score</th>\n",
       "      <th>precision</th>\n",
       "      <th>recall</th>\n",
       "    </tr>\n",
       "  </thead>\n",
       "  <tbody>\n",
       "    <tr>\n",
       "      <th>0</th>\n",
       "      <td>CatBoostClassifier</td>\n",
       "      <td>0.720000</td>\n",
       "      <td>0.600000</td>\n",
       "      <td>0.9</td>\n",
       "    </tr>\n",
       "    <tr>\n",
       "      <th>1</th>\n",
       "      <td>CatBoostClassifier (Random negative sampling) ...</td>\n",
       "      <td>0.782609</td>\n",
       "      <td>0.642857</td>\n",
       "      <td>1.0</td>\n",
       "    </tr>\n",
       "  </tbody>\n",
       "</table>\n",
       "</div>"
      ],
      "text/plain": [
       "                                               model   f-score  precision  \\\n",
       "0                                 CatBoostClassifier  0.720000   0.600000   \n",
       "1  CatBoostClassifier (Random negative sampling) ...  0.782609   0.642857   \n",
       "\n",
       "   recall  \n",
       "0     0.9  \n",
       "1     1.0  "
      ]
     },
     "execution_count": 397,
     "metadata": {},
     "output_type": "execute_result"
    }
   ],
   "source": [
    "metrics_data = pd.DataFrame(\n",
    "    [['CatBoostClassifier'] + boost_metrics,['CatBoostClassifier (Random negative sampling) P = 65%'] + boost_metrics_RNS],\n",
    "    columns = ['model', 'f-score', 'precision', 'recall']\n",
    ")\n",
    "metrics_data"
   ]
  },
  {
   "cell_type": "markdown",
   "metadata": {},
   "source": [
    "**Вывод:** метрики качества модели CatBoostClassifier с использованием random negative sampling стали лучше."
   ]
  },
  {
   "cell_type": "markdown",
   "metadata": {},
   "source": [
    "**7. Эксперименты с долей P на шаге 5**"
   ]
  },
  {
   "cell_type": "code",
   "execution_count": 432,
   "metadata": {},
   "outputs": [],
   "source": [
    "boost_metrics_RNS = []\n",
    "\n",
    "#разделяем датасет на P и U\n",
    "for i in [0.3, 0.4, 0.5, 0.6, 0.7, 0.8, 0.9]:\n",
    "    data_P = df_P.sample(frac=i)\n",
    "    data_U = df_U\n",
    "    data = pd.concat([data_P, data_U], ignore_index=True)\n",
    "    \n",
    "    #разделим данные на train/test\n",
    "    X_train, X_test, y_train, y_test = train_test_split(data.drop(['Caesarian'], axis=1), data['Caesarian'], random_state=0)\n",
    "    \n",
    "    #обучаем модель\n",
    "    model_catb.fit(X_train, y_train)\n",
    "\n",
    "    #прогнозы для тестовой выборки\n",
    "    preds = model_catb.predict_proba(X_test)[:, 1]\n",
    "\n",
    "    #считаем метрики\n",
    "    precision, recall, thresholds = precision_recall_curve(y_test, preds)\n",
    "    fscore = (2 * precision * recall) / (precision + recall)\n",
    "    # locate the index of the largest f score\n",
    "    ix = np.argmax(fscore)\n",
    "    \n",
    "    boost_metrics_RNS.append([i, fscore[ix], precision[ix], recall[ix]])"
   ]
  },
  {
   "cell_type": "markdown",
   "metadata": {},
   "source": [
    "Сводная таблица результатов моделей"
   ]
  },
  {
   "cell_type": "code",
   "execution_count": 433,
   "metadata": {},
   "outputs": [
    {
     "data": {
      "text/html": [
       "<div>\n",
       "<style scoped>\n",
       "    .dataframe tbody tr th:only-of-type {\n",
       "        vertical-align: middle;\n",
       "    }\n",
       "\n",
       "    .dataframe tbody tr th {\n",
       "        vertical-align: top;\n",
       "    }\n",
       "\n",
       "    .dataframe thead th {\n",
       "        text-align: right;\n",
       "    }\n",
       "</style>\n",
       "<table border=\"1\" class=\"dataframe\">\n",
       "  <thead>\n",
       "    <tr style=\"text-align: right;\">\n",
       "      <th></th>\n",
       "      <th>model</th>\n",
       "      <th>f-score</th>\n",
       "      <th>precision</th>\n",
       "      <th>recall</th>\n",
       "    </tr>\n",
       "  </thead>\n",
       "  <tbody>\n",
       "    <tr>\n",
       "      <th>0</th>\n",
       "      <td>CatBoostClassifier</td>\n",
       "      <td>0.720000</td>\n",
       "      <td>0.600000</td>\n",
       "      <td>0.900000</td>\n",
       "    </tr>\n",
       "    <tr>\n",
       "      <th>0</th>\n",
       "      <td>CatBoostClassifier (RNS) P = 30%</td>\n",
       "      <td>0.888889</td>\n",
       "      <td>0.800000</td>\n",
       "      <td>1.000000</td>\n",
       "    </tr>\n",
       "    <tr>\n",
       "      <th>0</th>\n",
       "      <td>CatBoostClassifier (RNS) P = 40%</td>\n",
       "      <td>0.470588</td>\n",
       "      <td>0.307692</td>\n",
       "      <td>1.000000</td>\n",
       "    </tr>\n",
       "    <tr>\n",
       "      <th>0</th>\n",
       "      <td>CatBoostClassifier (RNS) P = 50%</td>\n",
       "      <td>0.666667</td>\n",
       "      <td>0.500000</td>\n",
       "      <td>1.000000</td>\n",
       "    </tr>\n",
       "    <tr>\n",
       "      <th>0</th>\n",
       "      <td>CatBoostClassifier (RNS) P = 60%</td>\n",
       "      <td>0.526316</td>\n",
       "      <td>0.357143</td>\n",
       "      <td>1.000000</td>\n",
       "    </tr>\n",
       "    <tr>\n",
       "      <th>0</th>\n",
       "      <td>CatBoostClassifier (RNS) P = 70%</td>\n",
       "      <td>0.714286</td>\n",
       "      <td>0.625000</td>\n",
       "      <td>0.833333</td>\n",
       "    </tr>\n",
       "    <tr>\n",
       "      <th>0</th>\n",
       "      <td>CatBoostClassifier (RNS) P = 80%</td>\n",
       "      <td>0.782609</td>\n",
       "      <td>0.642857</td>\n",
       "      <td>1.000000</td>\n",
       "    </tr>\n",
       "    <tr>\n",
       "      <th>0</th>\n",
       "      <td>CatBoostClassifier (RNS) P = 90%</td>\n",
       "      <td>0.640000</td>\n",
       "      <td>0.470588</td>\n",
       "      <td>1.000000</td>\n",
       "    </tr>\n",
       "  </tbody>\n",
       "</table>\n",
       "</div>"
      ],
      "text/plain": [
       "                              model   f-score  precision    recall\n",
       "0                CatBoostClassifier  0.720000   0.600000  0.900000\n",
       "0  CatBoostClassifier (RNS) P = 30%  0.888889   0.800000  1.000000\n",
       "0  CatBoostClassifier (RNS) P = 40%  0.470588   0.307692  1.000000\n",
       "0  CatBoostClassifier (RNS) P = 50%  0.666667   0.500000  1.000000\n",
       "0  CatBoostClassifier (RNS) P = 60%  0.526316   0.357143  1.000000\n",
       "0  CatBoostClassifier (RNS) P = 70%  0.714286   0.625000  0.833333\n",
       "0  CatBoostClassifier (RNS) P = 80%  0.782609   0.642857  1.000000\n",
       "0  CatBoostClassifier (RNS) P = 90%  0.640000   0.470588  1.000000"
      ]
     },
     "execution_count": 433,
     "metadata": {},
     "output_type": "execute_result"
    }
   ],
   "source": [
    "result = metrics_data.loc[metrics_data['model'] == 'CatBoostClassifier']\n",
    "for i in range(len(boost_metrics_RNS)):\n",
    "    result = pd.concat([result, pd.DataFrame([[f'CatBoostClassifier (RNS) P = {int(boost_metrics_RNS[i][0]*100)}%']+boost_metrics_RNS[i][1:]],columns = ['model', 'f-score', 'precision', 'recall'])])\n",
    "result"
   ]
  },
  {
   "cell_type": "markdown",
   "metadata": {},
   "source": [
    "**Вывод:** при изменении доли P качество модели меняется: при значениях средних значениях P (от 40 до 60%) рузельтаты хуже, чем при очень малой (30%) или очень большой (80%) доле P. Лучшие показатели метрики при 30% от P."
   ]
  }
 ],
 "metadata": {
  "kernelspec": {
   "display_name": "Python 3",
   "language": "python",
   "name": "python3"
  },
  "language_info": {
   "codemirror_mode": {
    "name": "ipython",
    "version": 3
   },
   "file_extension": ".py",
   "mimetype": "text/x-python",
   "name": "python",
   "nbconvert_exporter": "python",
   "pygments_lexer": "ipython3",
   "version": "3.8.5"
  }
 },
 "nbformat": 4,
 "nbformat_minor": 4
}
