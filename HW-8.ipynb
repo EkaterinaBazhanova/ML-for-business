{
 "cells": [
  {
   "cell_type": "code",
   "execution_count": 264,
   "metadata": {},
   "outputs": [],
   "source": [
    "import pandas as pd\n",
    "import numpy as np\n",
    "import random\n",
    "import scipy\n",
    "import scipy as sp\n",
    "import scipy.stats as sts\n",
    "import matplotlib.pyplot as plt\n",
    "%matplotlib inline\n",
    "\n",
    "random.seed(42)"
   ]
  },
  {
   "cell_type": "markdown",
   "metadata": {
    "id": "50IIxLyU-ltW"
   },
   "source": [
    "\n",
    "<a id='ab'></a>\n",
    "##  A/B тестирование\n",
    "\n",
    "A/B-тестирование (англ. A/B testing, Split testing) — метод маркетингового исследования, суть которого заключается в том, что контрольная группа элементов сравнивается с набором тестовых групп, в которых один или несколько показателей были изменены, для того, чтобы выяснить, какие из изменений улучшают целевой показатель и улучшают ли."
   ]
  },
  {
   "cell_type": "markdown",
   "metadata": {
    "id": "JctzO1Gn-ltX"
   },
   "source": [
    "Конверсия (Conversion Rate) в интернет-маркетинге — это отношение числа посетителей сайта, выполнивших на нём какие-либо целевые действия (покупку, регистрацию, подписку, посещение определённой страницы сайта, переход по рекламной ссылке), к общему числу посетителей сайта, выраженное в процентах. \n",
    "\n",
    "Этапы A/B тестирования:\n",
    "\n",
    "- Выдвигаем предположение о том, что какое-то изменение (например, персонализация главной страницы) увеличит конверсию интернет-магазина.\n",
    "\n",
    "- Создаем альтернативную версию сайта «Б» — копию исходной версии «А» с изменениями, от которых мы ждем роста эффективности сайта.\n",
    "\n",
    "- Всех посетителей сайта случайным образом делим на две равные группы: одной группе показываем исходный вариант (контрольная группа) , второй группе (тестовой) — альтернативный. Одновременно измеряем конверсию для обеих версий сайта.\n",
    "\n",
    "- Определяем статистически достоверно победивший вариант."
   ]
  },
  {
   "cell_type": "markdown",
   "metadata": {},
   "source": [
    "# Домашнее задание №8\n",
    "\n",
    "Провести анализ результатов A/B тестирования двух версий дизайна кнопки сайта интернет-магазина. Целевое действие: клик по кнопке. \n",
    "\n",
    "Результаты этапов 1-3 A/B-тестирования собраны в ab_dataset.csv.\n",
    "\n",
    "Выполним пункт 4 -- определим статистически достоверно победивший вариант. Для этого проведем исследование чека и выясним, изменился ли средний чек."
   ]
  },
  {
   "cell_type": "markdown",
   "metadata": {},
   "source": [
    "## Решение"
   ]
  },
  {
   "cell_type": "markdown",
   "metadata": {},
   "source": [
    "[1. Первичный анализ данных](#part1) \\\n",
    "[2. Формулировка и проверка гипотезы](#part2) \\\n",
    "[3. Статистические выводы](#part3)"
   ]
  },
  {
   "cell_type": "markdown",
   "metadata": {
    "id": "rQ4Gzr9o-ltX"
   },
   "source": [
    "### 1. Первичный анализ данных <a class=\"anchor\" id=\"part1\"></a><center>"
   ]
  },
  {
   "cell_type": "markdown",
   "metadata": {
    "id": "Vo3Whc3h-ltX"
   },
   "source": [
    "Загрузим данные из файла ab_datas.csv"
   ]
  },
  {
   "cell_type": "code",
   "execution_count": 265,
   "metadata": {
    "colab": {
     "base_uri": "https://localhost:8080/",
     "height": 204
    },
    "id": "WmrvOCGt-ltX",
    "outputId": "ba6c4690-59e0-4944-d2e8-5e0d97fcc53f"
   },
   "outputs": [
    {
     "data": {
      "text/html": [
       "<div>\n",
       "<style scoped>\n",
       "    .dataframe tbody tr th:only-of-type {\n",
       "        vertical-align: middle;\n",
       "    }\n",
       "\n",
       "    .dataframe tbody tr th {\n",
       "        vertical-align: top;\n",
       "    }\n",
       "\n",
       "    .dataframe thead th {\n",
       "        text-align: right;\n",
       "    }\n",
       "</style>\n",
       "<table border=\"1\" class=\"dataframe\">\n",
       "  <thead>\n",
       "    <tr style=\"text-align: right;\">\n",
       "      <th></th>\n",
       "      <th>user_id</th>\n",
       "      <th>timestamp</th>\n",
       "      <th>group</th>\n",
       "      <th>landing_page</th>\n",
       "      <th>converted</th>\n",
       "      <th>revenue</th>\n",
       "    </tr>\n",
       "  </thead>\n",
       "  <tbody>\n",
       "    <tr>\n",
       "      <th>0</th>\n",
       "      <td>851104</td>\n",
       "      <td>2017-01-21 22:11:48.556739</td>\n",
       "      <td>control</td>\n",
       "      <td>old_page</td>\n",
       "      <td>0</td>\n",
       "      <td>0</td>\n",
       "    </tr>\n",
       "    <tr>\n",
       "      <th>1</th>\n",
       "      <td>804228</td>\n",
       "      <td>2017-01-12 08:01:45.159739</td>\n",
       "      <td>control</td>\n",
       "      <td>old_page</td>\n",
       "      <td>0</td>\n",
       "      <td>0</td>\n",
       "    </tr>\n",
       "    <tr>\n",
       "      <th>2</th>\n",
       "      <td>661590</td>\n",
       "      <td>2017-01-11 16:55:06.154213</td>\n",
       "      <td>treatment</td>\n",
       "      <td>new_page</td>\n",
       "      <td>0</td>\n",
       "      <td>100</td>\n",
       "    </tr>\n",
       "    <tr>\n",
       "      <th>3</th>\n",
       "      <td>853541</td>\n",
       "      <td>2017-01-08 18:28:03.143765</td>\n",
       "      <td>treatment</td>\n",
       "      <td>new_page</td>\n",
       "      <td>0</td>\n",
       "      <td>0</td>\n",
       "    </tr>\n",
       "    <tr>\n",
       "      <th>4</th>\n",
       "      <td>864975</td>\n",
       "      <td>2017-01-21 01:52:26.210827</td>\n",
       "      <td>control</td>\n",
       "      <td>old_page</td>\n",
       "      <td>1</td>\n",
       "      <td>250</td>\n",
       "    </tr>\n",
       "  </tbody>\n",
       "</table>\n",
       "</div>"
      ],
      "text/plain": [
       "   user_id                   timestamp      group landing_page  converted  \\\n",
       "0   851104  2017-01-21 22:11:48.556739    control     old_page          0   \n",
       "1   804228  2017-01-12 08:01:45.159739    control     old_page          0   \n",
       "2   661590  2017-01-11 16:55:06.154213  treatment     new_page          0   \n",
       "3   853541  2017-01-08 18:28:03.143765  treatment     new_page          0   \n",
       "4   864975  2017-01-21 01:52:26.210827    control     old_page          1   \n",
       "\n",
       "   revenue  \n",
       "0        0  \n",
       "1        0  \n",
       "2      100  \n",
       "3        0  \n",
       "4      250  "
      ]
     },
     "execution_count": 265,
     "metadata": {},
     "output_type": "execute_result"
    }
   ],
   "source": [
    "df = pd.read_csv('ab_datas.csv')\n",
    "df.head()"
   ]
  },
  {
   "cell_type": "markdown",
   "metadata": {
    "id": "OjE-8Ylg-ltY"
   },
   "source": [
    "Определим число посетителей сайта"
   ]
  },
  {
   "cell_type": "code",
   "execution_count": 266,
   "metadata": {
    "colab": {
     "base_uri": "https://localhost:8080/"
    },
    "id": "jyudDfaq-ltY",
    "outputId": "c9435919-dbdf-4c45-d60b-dcb20a0f58f2"
   },
   "outputs": [
    {
     "name": "stdout",
     "output_type": "stream",
     "text": [
      "Число строк: 294478\n"
     ]
    }
   ],
   "source": [
    "#количество посетителей всего\n",
    "n_rows = df.shape[0]\n",
    "print(\"Число строк: {}\".format(n_rows))"
   ]
  },
  {
   "cell_type": "markdown",
   "metadata": {
    "id": "RAOG9bmL-ltY"
   },
   "source": [
    "Определим число уникальных посетителей сайта"
   ]
  },
  {
   "cell_type": "code",
   "execution_count": 267,
   "metadata": {
    "colab": {
     "base_uri": "https://localhost:8080/"
    },
    "id": "WFa9Jd7--ltY",
    "outputId": "728d0f5c-949e-4d85-93cb-5d2a4810ae44"
   },
   "outputs": [
    {
     "name": "stdout",
     "output_type": "stream",
     "text": [
      "Число уникальных пользователей : 290584\n"
     ]
    }
   ],
   "source": [
    "#количество уникальных посетителей всего\n",
    "user_total = df.nunique()['user_id']\n",
    "print(\"Число уникальных пользователей : {}\".format(user_total))"
   ]
  },
  {
   "cell_type": "markdown",
   "metadata": {
    "collapsed": true,
    "id": "o3N6lGi5-ltY"
   },
   "source": [
    "Определим ошибки в распределении посетителей из контрольной группы на страницу в старом дизайне и пользователей из тестовой группы - на страницу в новом дизайне"
   ]
  },
  {
   "cell_type": "code",
   "execution_count": 268,
   "metadata": {
    "colab": {
     "base_uri": "https://localhost:8080/"
    },
    "id": "BmE8wUnS-ltY",
    "outputId": "d1f3bf07-dae9-4f5d-9d9f-c05f4caf75ff"
   },
   "outputs": [
    {
     "name": "stdout",
     "output_type": "stream",
     "text": [
      "Из тестовой группы неверно направлены 1965 пользователей\n",
      "Из контрольной группы неверно направлены  1928 пользователей\n"
     ]
    }
   ],
   "source": [
    "mismatch_1 = df.query(\"group == 'treatment' and landing_page == 'old_page'\")\n",
    "print(\"Из тестовой группы неверно направлены {}\".format(len(mismatch_1)) + \" пользователей\")\n",
    "\n",
    "mismatch_2 = df.query(\"group == 'control' and landing_page == 'new_page'\")\n",
    "print(\"Из контрольной группы неверно направлены  {}\".format(len(mismatch_2)) + \" пользователей\")\n"
   ]
  },
  {
   "cell_type": "markdown",
   "metadata": {
    "id": "a2XyBHO6-ltY"
   },
   "source": [
    "Определяем, что пропусков в данных нет"
   ]
  },
  {
   "cell_type": "code",
   "execution_count": 269,
   "metadata": {
    "colab": {
     "base_uri": "https://localhost:8080/"
    },
    "id": "HZeyu9Vg-ltZ",
    "outputId": "dd30978d-17ba-460a-b0d7-99d115ec0a68"
   },
   "outputs": [
    {
     "name": "stdout",
     "output_type": "stream",
     "text": [
      "<class 'pandas.core.frame.DataFrame'>\n",
      "RangeIndex: 294478 entries, 0 to 294477\n",
      "Data columns (total 6 columns):\n",
      " #   Column        Non-Null Count   Dtype \n",
      "---  ------        --------------   ----- \n",
      " 0   user_id       294478 non-null  int64 \n",
      " 1   timestamp     294478 non-null  object\n",
      " 2   group         294478 non-null  object\n",
      " 3   landing_page  294478 non-null  object\n",
      " 4   converted     294478 non-null  int64 \n",
      " 5   revenue       294478 non-null  int64 \n",
      "dtypes: int64(3), object(3)\n",
      "memory usage: 13.5+ MB\n"
     ]
    }
   ],
   "source": [
    "df.info()"
   ]
  },
  {
   "cell_type": "markdown",
   "metadata": {
    "collapsed": true,
    "id": "cG8tfrF9-ltZ"
   },
   "source": [
    "Вычислим средний чек по всем посетителям"
   ]
  },
  {
   "cell_type": "code",
   "execution_count": 270,
   "metadata": {},
   "outputs": [
    {
     "name": "stdout",
     "output_type": "stream",
     "text": [
      "Средний чек по всем посетителям: 101.9677191504968\n"
     ]
    }
   ],
   "source": [
    "print(f\"Средний чек по всем посетителям: {df['revenue'].mean()}\")"
   ]
  },
  {
   "cell_type": "markdown",
   "metadata": {
    "id": "rz1RnfX_-ltZ"
   },
   "source": [
    "Описательная статистика датасета "
   ]
  },
  {
   "cell_type": "code",
   "execution_count": 271,
   "metadata": {
    "colab": {
     "base_uri": "https://localhost:8080/",
     "height": 173
    },
    "id": "cywgO088-ltZ",
    "outputId": "c8540ac3-b974-4552-e14b-5346f480e619"
   },
   "outputs": [
    {
     "data": {
      "text/html": [
       "<div>\n",
       "<style scoped>\n",
       "    .dataframe tbody tr th:only-of-type {\n",
       "        vertical-align: middle;\n",
       "    }\n",
       "\n",
       "    .dataframe tbody tr th {\n",
       "        vertical-align: top;\n",
       "    }\n",
       "\n",
       "    .dataframe thead th {\n",
       "        text-align: right;\n",
       "    }\n",
       "</style>\n",
       "<table border=\"1\" class=\"dataframe\">\n",
       "  <thead>\n",
       "    <tr style=\"text-align: right;\">\n",
       "      <th></th>\n",
       "      <th>count</th>\n",
       "      <th>mean</th>\n",
       "      <th>std</th>\n",
       "      <th>min</th>\n",
       "      <th>25%</th>\n",
       "      <th>50%</th>\n",
       "      <th>75%</th>\n",
       "      <th>max</th>\n",
       "    </tr>\n",
       "    <tr>\n",
       "      <th>group</th>\n",
       "      <th></th>\n",
       "      <th></th>\n",
       "      <th></th>\n",
       "      <th></th>\n",
       "      <th></th>\n",
       "      <th></th>\n",
       "      <th></th>\n",
       "      <th></th>\n",
       "    </tr>\n",
       "  </thead>\n",
       "  <tbody>\n",
       "    <tr>\n",
       "      <th>control</th>\n",
       "      <td>147202.0</td>\n",
       "      <td>87.431896</td>\n",
       "      <td>102.424926</td>\n",
       "      <td>0.0</td>\n",
       "      <td>0.0</td>\n",
       "      <td>0.0</td>\n",
       "      <td>250.0</td>\n",
       "      <td>250.0</td>\n",
       "    </tr>\n",
       "    <tr>\n",
       "      <th>treatment</th>\n",
       "      <td>147276.0</td>\n",
       "      <td>116.496238</td>\n",
       "      <td>102.732069</td>\n",
       "      <td>0.0</td>\n",
       "      <td>0.0</td>\n",
       "      <td>100.0</td>\n",
       "      <td>250.0</td>\n",
       "      <td>250.0</td>\n",
       "    </tr>\n",
       "  </tbody>\n",
       "</table>\n",
       "</div>"
      ],
      "text/plain": [
       "              count        mean         std  min  25%    50%    75%    max\n",
       "group                                                                     \n",
       "control    147202.0   87.431896  102.424926  0.0  0.0    0.0  250.0  250.0\n",
       "treatment  147276.0  116.496238  102.732069  0.0  0.0  100.0  250.0  250.0"
      ]
     },
     "execution_count": 271,
     "metadata": {},
     "output_type": "execute_result"
    }
   ],
   "source": [
    "df_grp = df.groupby('group')['revenue']\n",
    "df_grp.describe()"
   ]
  },
  {
   "cell_type": "markdown",
   "metadata": {},
   "source": [
    "Средний чек в контрольной и тестовой группах имеет заментную разницу. Медианные значения revenue существенно отличаются в группах."
   ]
  },
  {
   "cell_type": "markdown",
   "metadata": {},
   "source": [
    "Выясним какова вероятность совершения покупки для посетителей из контрольной группы (старый дизайн)"
   ]
  },
  {
   "cell_type": "code",
   "execution_count": 272,
   "metadata": {},
   "outputs": [
    {
     "name": "stdout",
     "output_type": "stream",
     "text": [
      "Вероятность совершения покупки пользователем из контрольной группы: \n",
      " 0.498641322808114\n"
     ]
    }
   ],
   "source": [
    "#число пользователей контрольной группы, совершившие покупки\n",
    "len(df.query(\"group == 'control' and revenue != 0\"))\n",
    "#число пользователей контрольной группы (объем контрольной группы)\n",
    "n_rows_contr = len(df[df['group'] == 'control'])\n",
    "#вероятность совершения покупки для посетителей из контрольной группы\n",
    "p_cont = len(df.query(\"group == 'control' and revenue != 0\")) / n_rows_contr \n",
    "print(f'Вероятность совершения покупки пользователем из контрольной группы: \\n {p_cont}')"
   ]
  },
  {
   "cell_type": "markdown",
   "metadata": {},
   "source": [
    "Определим какова вероятность совершения покупки для посетителей из тестовой группы (новый дизайн кнопки)"
   ]
  },
  {
   "cell_type": "code",
   "execution_count": 273,
   "metadata": {},
   "outputs": [
    {
     "name": "stdout",
     "output_type": "stream",
     "text": [
      "Вероятность совершения покупки пользователем из тестовой группы: \n",
      " 0.665940139601836\n"
     ]
    }
   ],
   "source": [
    "#число пользователей тестовой группы, совершившие покупки\n",
    "len(df.query(\"group == 'treatment' and revenue != 0\"))\n",
    "#число пользователей тестовой группы (объем тестовой группы)\n",
    "n_rows_treat = len(df[df['group'] == 'treatment'])\n",
    "#вероятность совершения покупки для посетителей из тестовой группы\n",
    "p_treat = len(df.query(\"group == 'treatment' and revenue != 0\")) / n_rows_treat \n",
    "print(f'Вероятность совершения покупки пользователем из тестовой группы: \\n {p_treat}')"
   ]
  },
  {
   "cell_type": "markdown",
   "metadata": {},
   "source": [
    "Вероятность совершения покупки пользователем из тестовой группы больше."
   ]
  },
  {
   "cell_type": "markdown",
   "metadata": {},
   "source": [
    "Выясним каково соотношение размеров тестовой и контрольный групп; какова вероятность, что очередной посетитель будет направлен на версию со старым/новым дизайном"
   ]
  },
  {
   "cell_type": "code",
   "execution_count": 274,
   "metadata": {
    "colab": {
     "base_uri": "https://localhost:8080/"
    },
    "id": "2q4mHg1y-lta",
    "outputId": "2f124504-d8f9-4178-cb6c-00aea14146a7"
   },
   "outputs": [
    {
     "name": "stdout",
     "output_type": "stream",
     "text": [
      "Соотношение размеров тестовой и контрольной групп: \n",
      " 1.0005027105609978\n",
      "Вероятность, что новый пользователь будет направлен на версию со старым дизайном: \n",
      " 0.5001256460584492\n",
      "Вероятность, что новый пользователь будет направлен на версию с новым дизайном: \n",
      " 0.49987435394155083\n"
     ]
    }
   ],
   "source": [
    "print(\"Соотношение размеров тестовой и контрольной групп: \\n {}\".format(n_rows_treat/n_rows_contr))\n",
    "\n",
    "print(\"Вероятность, что новый пользователь будет направлен на версию со старым дизайном: \\n {}\".format(n_rows_treat/n_rows))\n",
    "print(\"Вероятность, что новый пользователь будет направлен на версию с новым дизайном: \\n {}\".format(n_rows_contr/n_rows))"
   ]
  },
  {
   "cell_type": "markdown",
   "metadata": {
    "id": "ORB7gHw3-lta"
   },
   "source": [
    "**Вывод:** поскольку объемы контрольной и тестовой групп примерно равны, средние значения чеков в каждой из групп имеют заметную разницу, то на основе предварительного анализа можно предположить, что новый дизайн сайта увеличивает вероятность совершения покупки и влечет за собой увеличение среднего чека."
   ]
  },
  {
   "cell_type": "markdown",
   "metadata": {
    "id": "63ZFf2FT-ltb"
   },
   "source": [
    "### 2. Формулировка и проверка гипотезы <a class=\"anchor\" id=\"part2\"></a><center>"
   ]
  },
  {
   "cell_type": "markdown",
   "metadata": {},
   "source": [
    "**2.1. Проверка гипотезы о равенстве генеральных средних двух выборок средствами python** "
   ]
  },
  {
   "cell_type": "markdown",
   "metadata": {},
   "source": [
    "Еще раз сравним средние значения чеков в выборках (контрольной и тестовой группе)"
   ]
  },
  {
   "cell_type": "code",
   "execution_count": 275,
   "metadata": {},
   "outputs": [
    {
     "name": "stdout",
     "output_type": "stream",
     "text": [
      "Выборочное среднее в контрольной группе: 87.43189630575671,\n",
      " Выборочное среднее в тестовой группe: 116.49623835519705\n"
     ]
    }
   ],
   "source": [
    "contr_mean = df.query(\"group == 'control'\")['revenue'].mean()\n",
    "treat_mean = df.query(\"group == 'treatment'\")['revenue'].mean()\n",
    "print(f'Выборочное среднее в контрольной группе: {contr_mean},\\n Выборочное среднее в тестовой группe: {treat_mean}')"
   ]
  },
  {
   "cell_type": "markdown",
   "metadata": {},
   "source": [
    "Выборочные средние имеют заметную разницу. Определим, является ли она статистически значимой."
   ]
  },
  {
   "cell_type": "markdown",
   "metadata": {
    "id": "76-2Q9oh-ltb"
   },
   "source": [
    "Проверим гипотезу о равенстве выборочных средних двух распределений (контрольная и тестовая выборки).\n",
    "\n",
    "**Нулевая гипотеза**: средний чек на сайте со старым дизайном такой же, как и на сайте с новым: $\\theta_{old} = \\theta_{new}$.\n",
    "\n",
    "**Альтернативная гипотеза**: средний чек на сайте со старым дизайном меньше, чем на сайте с новым: $\\theta_{old} < \\theta_{new}$ (левосторонняя критическая область).\n",
    "\n",
    "**Уровень значимости**: $\\alpha = 0,05$ -- вероятность ошибки первого рода, т. е. вероятность принятия альтернативной гипотезы при условии, что на самом деле верна нулевая гипотеза.\n",
    "\n",
    "**Статистический критерий**: так как выборки независимы, генеральные совокупности распределены нормально, то для проверки гипотезы будем использовать Z-критерий. Проведем также T-тест и критерий Манна-Уитни-тест."
   ]
  },
  {
   "cell_type": "markdown",
   "metadata": {},
   "source": [
    "**Проведение вычислений:**"
   ]
  },
  {
   "cell_type": "markdown",
   "metadata": {
    "id": "x4saRv3C-ltc"
   },
   "source": [
    "$Z$-критерий"
   ]
  },
  {
   "cell_type": "code",
   "execution_count": 276,
   "metadata": {
    "colab": {
     "base_uri": "https://localhost:8080/"
    },
    "id": "VpV4OkX2-ltc",
    "outputId": "cef54ff1-356e-4bc1-a3f0-eb14d4a1113c"
   },
   "outputs": [
    {
     "name": "stdout",
     "output_type": "stream",
     "text": [
      "Z-статистика=-92.04185904290561,  p_value=0.0\n"
     ]
    }
   ],
   "source": [
    "#Z-статистика\n",
    "import statsmodels.api as sm\n",
    "import statsmodels\n",
    "\n",
    "#количество успехов в контрольной группе\n",
    "convert_contr = len(df.query(\"group == 'control' and revenue != 0\"))\n",
    "#количество успехов в тестовой группе\n",
    "convert_treat = len(df.query(\"group == 'treatment' and revenue != 0\"))\n",
    "\n",
    "#количество поситителей в контрольной группе (объем контрольной группы)\n",
    "n_rows_contr\n",
    "#количество покупателей в тестовой группе (объем тестовой группы)\n",
    "n_rows_treat\n",
    "\n",
    "z_score, p_value = sm.stats.proportions_ztest([convert_contr, convert_treat], [n_rows_contr, n_rows_treat], \n",
    "                                              alternative='smaller')\n",
    "\n",
    "print(\"Z-статистика={},  p_value={}\".format(z_score, p_value))"
   ]
  },
  {
   "cell_type": "markdown",
   "metadata": {},
   "source": [
    "$T$-test"
   ]
  },
  {
   "cell_type": "code",
   "execution_count": 277,
   "metadata": {},
   "outputs": [],
   "source": [
    "t_score, p_value, _ = statsmodels.stats.weightstats.ttest_ind(df.query(\"group == 'control'\")['revenue'],\n",
    "                                                              df.query(\"group == 'treatment'\")['revenue'],\n",
    "                                                              alternative=\"smaller\",\n",
    "                                                              usevar='unequal')"
   ]
  },
  {
   "cell_type": "code",
   "execution_count": 278,
   "metadata": {},
   "outputs": [
    {
     "name": "stdout",
     "output_type": "stream",
     "text": [
      "T-статистика=-76.8776779597561,  p_value=0.0\n"
     ]
    }
   ],
   "source": [
    "print(\"T-статистика={},  p_value={}\".format(t_score, p_value))"
   ]
  },
  {
   "cell_type": "markdown",
   "metadata": {},
   "source": [
    "$Mann–Whitney$-test"
   ]
  },
  {
   "cell_type": "code",
   "execution_count": 279,
   "metadata": {},
   "outputs": [],
   "source": [
    "w_score, p_value = scipy.stats.mannwhitneyu(df.query(\"group == 'control'\")['revenue'],\n",
    "                                            df.query(\"group == 'treatment'\")['revenue'],\n",
    "                                            alternative=\"less\")"
   ]
  },
  {
   "cell_type": "code",
   "execution_count": 280,
   "metadata": {},
   "outputs": [
    {
     "name": "stdout",
     "output_type": "stream",
     "text": [
      "W-статистика=9035923118.5,  p_value=0.0\n"
     ]
    }
   ],
   "source": [
    "print(\"W-статистика={},  p_value={}\".format(w_score, p_value))"
   ]
  },
  {
   "cell_type": "markdown",
   "metadata": {},
   "source": [
    "**Вывод:** так как $\\alpha > p-value$, то на уровне значимости $\\alpha$ нулевую гипотезу отвергаем, т.е. средний чек на сайте со старым дизайном меньше, чем на сайте с новым (средние значения чеков статистически значимо отличаются друг от друга)."
   ]
  },
  {
   "cell_type": "markdown",
   "metadata": {},
   "source": [
    "**2.2. Проверка гипотезы о равенстве генеральных средних двух выборок (вручную)**"
   ]
  },
  {
   "cell_type": "code",
   "execution_count": 281,
   "metadata": {},
   "outputs": [],
   "source": [
    "#уровеь значимости\n",
    "alpha = 0.05 \n",
    "\n",
    "#Критическое значение z-статистики\n",
    "f_z_krit = (1 - 2*0.05)/2 \n",
    "Z_krit = 1.65 #По таблице фунции Лапласса из f_z_krit = 0.45\n",
    "\n",
    "#выборочные средние\n",
    "contr_mean = df.query(\"group == 'control'\")['revenue'].mean()\n",
    "treat_mean = df.query(\"group == 'treatment'\")['revenue'].mean()\n",
    "\n",
    "#выборочные дисперсии\n",
    "contr_var = df.query(\"group == 'control'\")['revenue'].var(ddof=1) \n",
    "treat_var = df.query(\"group == 'control'\")['revenue'].var(ddof=1) "
   ]
  },
  {
   "cell_type": "code",
   "execution_count": 282,
   "metadata": {},
   "outputs": [
    {
     "name": "stdout",
     "output_type": "stream",
     "text": [
      "На уровне значимости 0.05 нулевую гипотезу отвергаем. Средние значения чеков в контрольной и тестовой группе статистически значимо отличаются друг от друга. С вероятностью 0.05 мы совершили ошибку первого рода (отвергли верную гипотезу)\n"
     ]
    }
   ],
   "source": [
    "#наблюдаемое значение статистики\n",
    "z_nabl = (contr_mean - treat_mean)/np.sqrt((contr_var/ n_rows_contr) + (treat_var /  n_rows_treat))\n",
    "\n",
    "if z_nabl > Z_krit:\n",
    "    print(f'На уровне значимости {alpha} нулевую гипотезу принимаем. Средние значения чеков в контрольной и тестовой группе статистически незначимо отличаются друг от друга.')\n",
    "else:\n",
    "    print(f'На уровне значимости {alpha} нулевую гипотезу отвергаем. Средние значения чеков в контрольной и тестовой группе статистически значимо отличаются друг от друга. С вероятностью {alpha} мы совершили ошибку первого рода (отвергли верную гипотезу)')"
   ]
  },
  {
   "cell_type": "markdown",
   "metadata": {},
   "source": [
    "**Вывод:** на уровне значимости $\\alpha$ нулевую гипотезу отвергаем, т.е. средние значения чеков статистически значимо отличаются друг от друга. "
   ]
  },
  {
   "cell_type": "markdown",
   "metadata": {},
   "source": [
    "### 3. Статистические выводы <a class=\"anchor\" id=\"part3\"></a><center>"
   ]
  },
  {
   "cell_type": "code",
   "execution_count": 283,
   "metadata": {},
   "outputs": [
    {
     "data": {
      "text/html": [
       "<div>\n",
       "<style scoped>\n",
       "    .dataframe tbody tr th:only-of-type {\n",
       "        vertical-align: middle;\n",
       "    }\n",
       "\n",
       "    .dataframe tbody tr th {\n",
       "        vertical-align: top;\n",
       "    }\n",
       "\n",
       "    .dataframe thead th {\n",
       "        text-align: right;\n",
       "    }\n",
       "</style>\n",
       "<table border=\"1\" class=\"dataframe\">\n",
       "  <thead>\n",
       "    <tr style=\"text-align: right;\">\n",
       "      <th></th>\n",
       "      <th>user_id</th>\n",
       "      <th>timestamp</th>\n",
       "      <th>group</th>\n",
       "      <th>landing_page</th>\n",
       "      <th>converted</th>\n",
       "      <th>revenue</th>\n",
       "    </tr>\n",
       "  </thead>\n",
       "  <tbody>\n",
       "    <tr>\n",
       "      <th>0</th>\n",
       "      <td>851104</td>\n",
       "      <td>2017-01-21 22:11:48.556739</td>\n",
       "      <td>control</td>\n",
       "      <td>old_page</td>\n",
       "      <td>0</td>\n",
       "      <td>0</td>\n",
       "    </tr>\n",
       "    <tr>\n",
       "      <th>1</th>\n",
       "      <td>804228</td>\n",
       "      <td>2017-01-12 08:01:45.159739</td>\n",
       "      <td>control</td>\n",
       "      <td>old_page</td>\n",
       "      <td>0</td>\n",
       "      <td>0</td>\n",
       "    </tr>\n",
       "    <tr>\n",
       "      <th>2</th>\n",
       "      <td>661590</td>\n",
       "      <td>2017-01-11 16:55:06.154213</td>\n",
       "      <td>treatment</td>\n",
       "      <td>new_page</td>\n",
       "      <td>0</td>\n",
       "      <td>100</td>\n",
       "    </tr>\n",
       "    <tr>\n",
       "      <th>3</th>\n",
       "      <td>853541</td>\n",
       "      <td>2017-01-08 18:28:03.143765</td>\n",
       "      <td>treatment</td>\n",
       "      <td>new_page</td>\n",
       "      <td>0</td>\n",
       "      <td>0</td>\n",
       "    </tr>\n",
       "    <tr>\n",
       "      <th>4</th>\n",
       "      <td>864975</td>\n",
       "      <td>2017-01-21 01:52:26.210827</td>\n",
       "      <td>control</td>\n",
       "      <td>old_page</td>\n",
       "      <td>1</td>\n",
       "      <td>250</td>\n",
       "    </tr>\n",
       "  </tbody>\n",
       "</table>\n",
       "</div>"
      ],
      "text/plain": [
       "   user_id                   timestamp      group landing_page  converted  \\\n",
       "0   851104  2017-01-21 22:11:48.556739    control     old_page          0   \n",
       "1   804228  2017-01-12 08:01:45.159739    control     old_page          0   \n",
       "2   661590  2017-01-11 16:55:06.154213  treatment     new_page          0   \n",
       "3   853541  2017-01-08 18:28:03.143765  treatment     new_page          0   \n",
       "4   864975  2017-01-21 01:52:26.210827    control     old_page          1   \n",
       "\n",
       "   revenue  \n",
       "0        0  \n",
       "1        0  \n",
       "2      100  \n",
       "3        0  \n",
       "4      250  "
      ]
     },
     "execution_count": 283,
     "metadata": {},
     "output_type": "execute_result"
    }
   ],
   "source": [
    "df.head()"
   ]
  },
  {
   "cell_type": "code",
   "execution_count": 284,
   "metadata": {},
   "outputs": [
    {
     "data": {
      "image/png": "[encoded data removed]",
      "text/plain": [
       "<Figure size 432x288 with 1 Axes>"
      ]
     },
     "metadata": {
      "needs_background": "light"
     },
     "output_type": "display_data"
    }
   ],
   "source": [
    "plt.hist(df.loc[df['group']=='control', 'revenue']);"
   ]
  },
  {
   "cell_type": "code",
   "execution_count": 285,
   "metadata": {},
   "outputs": [
    {
     "data": {
      "image/png": "[encoded data removed]",
      "text/plain": [
       "<Figure size 432x288 with 1 Axes>"
      ]
     },
     "metadata": {
      "needs_background": "light"
     },
     "output_type": "display_data"
    }
   ],
   "source": [
    "plt.hist(df.loc[df['group']=='treatment', 'revenue']);"
   ]
  },
  {
   "cell_type": "markdown",
   "metadata": {},
   "source": [
    "**Вывод:** анализ диаграмм показывает, что количество покупок в тестовой группе выросло. Как следствие, сумма среднего чека возросла."
   ]
  },
  {
   "cell_type": "markdown",
   "metadata": {},
   "source": [
    "**Сделаем статистические выводы при помощи bootstrap-а**"
   ]
  },
  {
   "cell_type": "code",
   "execution_count": 286,
   "metadata": {},
   "outputs": [],
   "source": [
    "a = df.loc[df['group']=='control', 'revenue'].values\n",
    "b = df.loc[df['group']=='treatment', 'revenue'].values"
   ]
  },
  {
   "cell_type": "code",
   "execution_count": 287,
   "metadata": {},
   "outputs": [],
   "source": [
    "from sklearn.utils import resample\n",
    "\n",
    "a_means = []\n",
    "b_means = []\n",
    "\n",
    "for i in range(10000):\n",
    "    a_boot = resample(a, replace=True, n_samples=len(a))\n",
    "    b_boot = resample(b, replace=True, n_samples=len(b))\n",
    "    \n",
    "    a_means.append(a_boot.mean())\n",
    "    b_means.append(b_boot.mean())\n",
    "    \n",
    "a_means = np.array(a_means)\n",
    "b_means = np.array(b_means)"
   ]
  },
  {
   "cell_type": "code",
   "execution_count": 288,
   "metadata": {},
   "outputs": [
    {
     "data": {
      "image/png": "[encoded data removed]",
      "text/plain": [
       "<Figure size 432x288 with 1 Axes>"
      ]
     },
     "metadata": {
      "needs_background": "light"
     },
     "output_type": "display_data"
    }
   ],
   "source": [
    "plt.hist(a_means, label='A rev', alpha=0.5, bins=5)\n",
    "plt.hist(b_means, label='B rev', alpha=0.5, bins=5)\n",
    "\n",
    "plt.legend(loc='center')\n",
    "plt.show()"
   ]
  },
  {
   "cell_type": "markdown",
   "metadata": {},
   "source": [
    "**Вывод:** из диаграммы видно, что любое среднее значение контрольной группы меньше любого среднего значения из тестовой группы."
   ]
  },
  {
   "cell_type": "markdown",
   "metadata": {},
   "source": [
    "**Найдем доверительные интервалы для оценки средних чеков со старой и новой версии сайта**"
   ]
  },
  {
   "cell_type": "code",
   "execution_count": 289,
   "metadata": {},
   "outputs": [
    {
     "data": {
      "text/plain": [
       "(86.9067505876279, 87.94853330797136)"
      ]
     },
     "execution_count": 289,
     "metadata": {},
     "output_type": "execute_result"
    }
   ],
   "source": [
    "# доверительный интервал\n",
    "np.percentile(a_means, 2.5), np.percentile(a_means, 97.5)"
   ]
  },
  {
   "cell_type": "code",
   "execution_count": 292,
   "metadata": {},
   "outputs": [
    {
     "data": {
      "text/plain": [
       "(115.97644898014612, 117.02384468616745)"
      ]
     },
     "execution_count": 292,
     "metadata": {},
     "output_type": "execute_result"
    }
   ],
   "source": [
    "# доверительный интервал\n",
    "np.percentile(b_means, 2.5), np.percentile(b_means, 97.5)"
   ]
  },
  {
   "cell_type": "markdown",
   "metadata": {},
   "source": [
    "Каждый из этих интервалов с заданной вероятностью накрывает истинное генеральное значение среднего чека со старой и новой версии сайта. Поскольку доверительный интервал контрольной группы на координатной прямой располагается левее аналогичного интервала для тестовой группы, то истинное генеральное значение среднего чека со старого сайта меньше аналогичного значения с нового. "
   ]
  },
  {
   "cell_type": "markdown",
   "metadata": {},
   "source": [
    "**Вывод:** средний чек со старого сайта меньше среднего чека с нового."
   ]
  },
  {
   "cell_type": "code",
   "execution_count": 290,
   "metadata": {},
   "outputs": [
    {
     "data": {
      "image/png": "[encoded data removed]",
      "text/plain": [
       "<Figure size 432x288 with 1 Axes>"
      ]
     },
     "metadata": {
      "needs_background": "light"
     },
     "output_type": "display_data"
    }
   ],
   "source": [
    "plt.hist(a_means - b_means, bins=100)\n",
    "plt.show()"
   ]
  },
  {
   "cell_type": "code",
   "execution_count": 297,
   "metadata": {},
   "outputs": [
    {
     "data": {
      "text/plain": [
       "0.0"
      ]
     },
     "execution_count": 297,
     "metadata": {},
     "output_type": "execute_result"
    }
   ],
   "source": [
    "# сделаем оценку на p_value\n",
    "dff = a_means - b_means\n",
    "\n",
    "len(dff[dff>=0])/len(dff)"
   ]
  },
  {
   "cell_type": "markdown",
   "metadata": {},
   "source": [
    "**Вывод:** любое выборочное среднее чеков со старого сайта меньше любого выборочного среднего чеков с нового сайта. Поскольку p_value = 0, то на любом уровне значимости будем отвергать нулевую гипотезу о равенстве генеральных средних чеков старого и нового сайтов."
   ]
  },
  {
   "cell_type": "markdown",
   "metadata": {},
   "source": [
    "**Итоговый вывод:** поскольку средний чек на сайте с новым дизайном статистически значимо больше среднего чека на сайте со старым дизайном, то статистически достоверно победивший вариант -- новый дизайт сайта."
   ]
  }
 ],
 "metadata": {
  "kernelspec": {
   "display_name": "Python 3",
   "language": "python",
   "name": "python3"
  },
  "language_info": {
   "codemirror_mode": {
    "name": "ipython",
    "version": 3
   },
   "file_extension": ".py",
   "mimetype": "text/x-python",
   "name": "python",
   "nbconvert_exporter": "python",
   "pygments_lexer": "ipython3",
   "version": "3.8.5"
  }
 },
 "nbformat": 4,
 "nbformat_minor": 4
}
